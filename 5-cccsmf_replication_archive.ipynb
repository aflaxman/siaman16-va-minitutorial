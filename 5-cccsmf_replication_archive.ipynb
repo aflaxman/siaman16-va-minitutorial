{
 "metadata": {
  "kernelspec": {
   "display_name": "Python 3",
   "language": "python",
   "name": "python3"
  },
  "language_info": {
   "codemirror_mode": {
    "name": "ipython",
    "version": 3
   },
   "file_extension": ".py",
   "mimetype": "text/x-python",
   "name": "python",
   "nbconvert_exporter": "python",
   "pygments_lexer": "ipython3",
   "version": "3.4.4"
  },
  "name": "",
  "signature": "sha256:3419db826ba476967af8341c1b813ac74785dbc12a4668e3ce98de9365bdad7a"
 },
 "nbformat": 3,
 "nbformat_minor": 0,
 "worksheets": [
  {
   "cells": [
    {
     "cell_type": "heading",
     "level": 1,
     "metadata": {},
     "source": [
      "Replication Archive for \"Measuring causes of death in populations: a new metric that corrects cause-specific mortality fractions for chance\""
     ]
    },
    {
     "cell_type": "code",
     "collapsed": false,
     "input": [
      "!date\n",
      "\n",
      "import numpy as np, pandas as pd, pymc as pm, matplotlib.pyplot as plt, seaborn as sns\n",
      "%matplotlib inline\n",
      "\n",
      "sns.set_style('whitegrid')\n",
      "sns.set_context('poster')"
     ],
     "language": "python",
     "metadata": {},
     "outputs": []
    },
    {
     "cell_type": "markdown",
     "metadata": {},
     "source": [
      "# Table 1\n",
      "\n",
      "Confusion matrices for physician-certified verbal autopsy and random-allocation verbal autopsy. Panel A shows the confusion matrix for physician certified verbal autopsy (with a length-three cause list for clarity). The entry each cell counts the number of deaths truly due to the row cause that were predicted to be due to the column cause.  For example, the value 83 in the \u201cother\u201d row, \u201cstroke\u201d column indicates that 83 deaths truly due to causes other than stroke or diabetes were (incorrectly) attributed to stroke by physicians.  This table demonstrates that (for this dataset) physicians are right more often than they are wrong when they predict stroke as the cause of death, but wrong more than they are right when they predict diabetes. Panel B shows the confusion matrix for Random Allocation with the same dataset, where random chance predicts stroke and diabetes incorrectly for a vast majority of the cases.  True and PCVA data from Lozano et al., 2011, where physicians were presented with VAI data where the underlying cause was known to meet stringent clinical diagnostic criteria, and their results compared to the truth.18\n",
      "\n"
     ]
    },
    {
     "cell_type": "code",
     "collapsed": false,
     "input": [
      "df = pd.read_csv('pcva_results.csv')"
     ],
     "language": "python",
     "metadata": {},
     "outputs": []
    },
    {
     "cell_type": "code",
     "collapsed": false,
     "input": [
      "df"
     ],
     "language": "python",
     "metadata": {},
     "outputs": []
    },
    {
     "cell_type": "code",
     "collapsed": false,
     "input": [
      "df['gs3'] = 'Other'\n",
      "df.loc[df.gs_text34=='Stroke', 'gs3'] = 'Stroke'\n",
      "df.loc[df.gs_text34=='Diabetes', 'gs3'] = 'Diabetes'"
     ],
     "language": "python",
     "metadata": {},
     "outputs": []
    },
    {
     "cell_type": "code",
     "collapsed": false,
     "input": [
      "df.gs3.value_counts()"
     ],
     "language": "python",
     "metadata": {},
     "outputs": []
    },
    {
     "cell_type": "code",
     "collapsed": false,
     "input": [
      "df['pc3'] = 'Other'\n",
      "df.loc[df.gs_assigned_MRR_1=='I64', 'pc3'] = 'Stroke'\n",
      "df.loc[df.gs_assigned_MRR_1=='E10', 'pc3'] = 'Diabetes'"
     ],
     "language": "python",
     "metadata": {},
     "outputs": []
    },
    {
     "cell_type": "code",
     "collapsed": false,
     "input": [
      "df.pc3.value_counts()"
     ],
     "language": "python",
     "metadata": {},
     "outputs": []
    },
    {
     "cell_type": "heading",
     "level": 2,
     "metadata": {},
     "source": [
      "Panel A"
     ]
    },
    {
     "cell_type": "code",
     "collapsed": false,
     "input": [
      "cnts = df.groupby(['gs3', 'pc3']).id.count()\n",
      "cnts = cnts.unstack()\n",
      "cnts = pd.DataFrame(cnts, columns=['Stroke', 'Diabetes', 'Other'], index = ['Stroke', 'Diabetes', 'Other'])\n",
      "cnts"
     ],
     "language": "python",
     "metadata": {},
     "outputs": []
    },
    {
     "cell_type": "code",
     "collapsed": false,
     "input": [
      "# spot-check a few things\n",
      "\n",
      "assert np.all(cnts.sum(axis=0) - df.pc3.value_counts() == 0)\n",
      "assert np.all(cnts.sum(axis=1) - df.gs3.value_counts() == 0)\n",
      "\n",
      "assert cnts.loc['Stroke', 'Stroke'] == ((df.pc3=='Stroke') & (df.gs3=='Stroke')).sum()\n",
      "assert cnts.loc['Stroke', 'Other'] == ((df.pc3=='Other') & (df.gs3=='Stroke')).sum()"
     ],
     "language": "python",
     "metadata": {},
     "outputs": []
    },
    {
     "cell_type": "heading",
     "level": 2,
     "metadata": {},
     "source": [
      "Panel B"
     ]
    },
    {
     "cell_type": "code",
     "collapsed": false,
     "input": [
      "# set seed for reproducibility\n",
      "np.random.seed(12345)\n",
      "\n",
      "df['ra3'] = np.random.choice(['Stroke', 'Diabetes', 'Other'], size=len(df.index))"
     ],
     "language": "python",
     "metadata": {},
     "outputs": []
    },
    {
     "cell_type": "code",
     "collapsed": false,
     "input": [
      "cnts = df.groupby(['gs3', 'ra3']).id.count()\n",
      "cnts = cnts.unstack()\n",
      "cnts = pd.DataFrame(cnts, columns=['Stroke', 'Diabetes', 'Other'], index = ['Stroke', 'Diabetes', 'Other'])\n",
      "cnts"
     ],
     "language": "python",
     "metadata": {},
     "outputs": []
    },
    {
     "cell_type": "markdown",
     "metadata": {},
     "source": [
      "# Table 2\n",
      "\n",
      "Confusion matrix for Random-From-Train verbal autopsy. The confusion matrix for Random-From-Train (with a length-three cause-list for clarity). As in Table 1, the entry each cell counts the number of deaths truly due to the row cause that were predicted to be due to the column cause. This table demonstrates that while Random-From-Train is inaccurate at the individual level, at the population level, the prediction distribution can closely match the truth.\n",
      "\n"
     ]
    },
    {
     "cell_type": "code",
     "collapsed": false,
     "input": [
      "df['rft'] = np.random.choice(df.gs3, size=len(df.index))"
     ],
     "language": "python",
     "metadata": {},
     "outputs": []
    },
    {
     "cell_type": "code",
     "collapsed": false,
     "input": [
      "cnts = df.groupby(['gs3', 'rft']).id.count()\n",
      "cnts = cnts.unstack()\n",
      "cnts = pd.DataFrame(cnts, columns=['Stroke', 'Diabetes', 'Other'], index = ['Stroke', 'Diabetes', 'Other'])\n",
      "cnts"
     ],
     "language": "python",
     "metadata": {},
     "outputs": []
    },
    {
     "cell_type": "markdown",
     "metadata": {},
     "source": [
      "This table demonstrates that while Random-From-Train is inaccurate at the individual level, at the population level, the prediction distribution can closely match the truth."
     ]
    },
    {
     "cell_type": "code",
     "collapsed": false,
     "input": [
      "pd.DataFrame({'row sums':cnts.sum(0), 'col sums':cnts.sum(1)})"
     ],
     "language": "python",
     "metadata": {},
     "outputs": []
    },
    {
     "cell_type": "markdown",
     "metadata": {},
     "source": [
      "To do this, we performed a Monte Carlo calculation of the CSMF accuracy of Random Allocation, by simulating a dataset with known CSMF distribution, assigning \u201cpredicted\u201d causes of death uniformly at random, and measuring the CSMF accuracy of the predictions.\n",
      "\n",
      "The distribution of the simulated dataset is an important and subtle detail of this calculation. We sampled the true CSMF distribution from an uninformative Dirichlet distribution (which gives equal probability to all possible CSMF distributions).  We generated XXX replicated of the Monte Carlo simulation, and calculated the mean and standard deviation of the CSMF accuracy."
     ]
    },
    {
     "cell_type": "code",
     "collapsed": false,
     "input": [
      "def csmf_acc_for_random(J=34, r=500, n=10000, seed=12345):\n",
      "    \"\"\" Use Monte Carlo to approximate the CSMF accuracy\n",
      "    of randomly assigning deaths to causes\n",
      "\n",
      "    J : int, number of causes\n",
      "    r : int, number of replicates in Monte Carlo approx\n",
      "    n : int, size of test db\n",
      "    \"\"\"\n",
      "    # set random seed for reproducibility\n",
      "    np.random.seed(seed)\n",
      "\n",
      "    #######################################################\n",
      "    #######################################################\n",
      "    # generate n CSMFs from uninformative dirichlet prior\n",
      "\n",
      "    csmf_true = pm.rdirichlet(np.ones(J), size=r)\n",
      "\n",
      "    # PyMC leaves off last coordinate of dirichlet draws\n",
      "    # so hstack it in complete csmf \n",
      "    assert np.all(csmf_true.sum(axis=1) <= 1)  # before completing, rows sum to at most one\n",
      "\n",
      "    csmf_true = np.hstack(( csmf_true,\n",
      "                            np.atleast_2d(1. - csmf_true.sum(axis=1)).T ))\n",
      "\n",
      "    assert np.allclose(csmf_true.sum(axis=1), 1)  # after completing, rows sum to one (module machine precision)\n",
      "\n",
      "\n",
      "\n",
      "    ########################################################\n",
      "    ########################################################\n",
      "    # generate n CSMFs from random allocation of causes\n",
      "    # to n deaths drawn from this distribution\n",
      "\n",
      "    csmf_rand = pm.rmultinomial(n, np.ones(J) / float(J), size=r) / float(n)\n",
      "    assert np.allclose(csmf_rand.sum(axis=1), 1)  #  rows sum to one (modulo machine precision)\n",
      "\n",
      "\n",
      "    ########################################################\n",
      "    ########################################################\n",
      "    # calculate CSMF accuracy for all replicates\n",
      "\n",
      "    csmf_acc = 1 - np.sum(np.absolute(csmf_true - csmf_rand), axis=1) \\\n",
      "                        / (2 * (1 - np.min(csmf_true, axis=1)))\n",
      "\n",
      "\n",
      "    #plt.title('Mean CSMF Accuracy = %0.2f\\nfor I=%d, n=%d, r=%d replicates' % (np.mean(csmf_acc), I, n, r))\n",
      "    #sns.distplot(csmf_acc, rug=True, rug_kws={'alpha':.25})\n",
      "    \n",
      "    return csmf_acc\n",
      "\n",
      "acc = csmf_acc_for_random(J=34)\n",
      "acc.mean(), acc.std()"
     ],
     "language": "python",
     "metadata": {},
     "outputs": []
    },
    {
     "cell_type": "markdown",
     "metadata": {},
     "source": [
      "We also used this simulation framework to perform a Monte Carlo calculation of the concordance for random allocation, which provides a cross-check for the analytical derivation of CCC derived in [ref]. We repeated the simulations for cause lists ranging from 3 to 50 causes."
     ]
    },
    {
     "cell_type": "code",
     "collapsed": false,
     "input": [
      "def concordance_for_random(J=34, r=500, n=10000, seed=12345):\n",
      "    \"\"\" Use Monte Carlo to approximate the concordance\n",
      "    of randomly assigning deaths to causes\n",
      "\n",
      "    J : int, number of causes\n",
      "    r : int, number of replicates in Monte Carlo approx\n",
      "    n : int, size of test db\n",
      "    \"\"\"\n",
      "    # set random seed for reproducibility\n",
      "    np.random.seed(seed)\n",
      "\n",
      "    #######################################################\n",
      "    #######################################################\n",
      "    # generate r replicates of n underlying causes of death\n",
      "    # (true and predicted)\n",
      "    \n",
      "    cause_true = np.floor(pm.runiform(0, J, size=(r,n)))\n",
      "    cause_pred = np.floor(pm.runiform(0, J, size=(r,n)))\n",
      "\n",
      "    ########################################################\n",
      "    ########################################################\n",
      "    # calculate concordance for r replicates\n",
      "    c = np.empty((J,r))\n",
      "    for j in range(J):\n",
      "        n_j = (cause_true == j).sum(axis=1)\n",
      "        n_j = np.array(n_j, dtype=float)  # ensure that we get floating point division\n",
      "        \n",
      "        c[j] = ((cause_true == j)&(cause_pred == j)).sum(axis=1) / n_j\n",
      "        \n",
      "    concordance = np.mean(c, axis=0)\n",
      "    assert concordance.shape == (r,)\n",
      "\n",
      "    return concordance\n",
      "\n",
      "c = concordance_for_random(J=3)\n",
      "c.mean(), c.std()"
     ],
     "language": "python",
     "metadata": {},
     "outputs": []
    },
    {
     "cell_type": "markdown",
     "metadata": {},
     "source": [
      "This simulation setting also provided us an opportunity to demonstrate the importance of randomly resampling the cause-fraction of the test set from an uninformative Dirichlet distribution (a technical point that perhaps has not been sufficiently appreciated since its introduction in [ref]).  To do so, we compared the CCCSMF accuracy of Random Allocation with that of Random-From-Train, where training data was either uniformly distributed among causes or distributed according same distribution as the test data."
     ]
    },
    {
     "cell_type": "code",
     "collapsed": false,
     "input": [
      "def csmf_acc_for_rft(J=34, r=500, n=10000, seed=12345, uniform_train=False):\n",
      "    \"\"\" Use Monte Carlo to approximate the CSMF accuracy\n",
      "    of randomly assigning deaths according to train set distribution\n",
      "\n",
      "    J : int, number of causes\n",
      "    r : int, number of replicates in Monte Carlo approx\n",
      "    n : int, size of test db\n",
      "    uniform_train : bool, should train set have different distribution than test set\n",
      "    \"\"\"\n",
      "    # set random seed for reproducibility\n",
      "    np.random.seed(seed)\n",
      "\n",
      "    #######################################################\n",
      "    #######################################################\n",
      "    # generate n CSMFs from uninformative dirichlet prior\n",
      "\n",
      "    csmf_true = pm.rdirichlet(np.ones(J), size=r)\n",
      "\n",
      "    # PyMC leaves off last coordinate of dirichlet draws\n",
      "    # so hstack it in complete csmf \n",
      "    assert np.all(csmf_true.sum(axis=1) <= 1)  # before completing, rows sum to at most one\n",
      "\n",
      "    csmf_true = np.hstack(( csmf_true,\n",
      "                            np.atleast_2d(1. - csmf_true.sum(axis=1)).T ))\n",
      "\n",
      "    assert np.allclose(csmf_true.sum(axis=1), 1)  # after completing, rows sum to one (module machine precision)\n",
      "\n",
      "    #######################################################\n",
      "    #######################################################\n",
      "    # generate train set of size n\n",
      "    \n",
      "    X_train = np.empty((r,n))\n",
      "    for i in range(r):\n",
      "        X_train[i,:] = pm.rcategorical(csmf_true[i], size=n)\n",
      "    \n",
      "    ########################################################\n",
      "    ########################################################\n",
      "    # re-calculate csmf for train set\n",
      "    # (since it is a little different than desired)\n",
      "    csmf_true = np.empty((r,J))\n",
      "    for i in range(r):\n",
      "        for j in range(J):\n",
      "            csmf_true[i,j] = (X_train[i] == j).sum() / float(n)\n",
      "    assert np.allclose(csmf_true.sum(axis=1), 1)  #  rows sum to one (modulo machine precision)\n",
      "    \n",
      "    #######################################################\n",
      "    #######################################################\n",
      "    # resample train set to have equal class sizes,\n",
      "    # _if requested_\n",
      "    if uniform_train:\n",
      "        X_train = np.empty((r,n))\n",
      "        for i in range(r):\n",
      "            X_train[i,:] = pm.rcategorical(np.ones(J)/float(J), size=n)\n",
      "    \n",
      "    \n",
      "    \n",
      "    ########################################################\n",
      "    ########################################################\n",
      "    # generate test set using random-from-train\n",
      "    X_test = np.empty((r,n))\n",
      "    for i in range(r):\n",
      "        X_test[i] = np.random.choice(X_train[i], size=n, replace=True)\n",
      "        \n",
      "    ########################################################\n",
      "    ########################################################\n",
      "    # calculate csmf for test set\n",
      "    csmf_rft = np.empty((r,J))\n",
      "    for i in range(r):\n",
      "        for j in range(J):\n",
      "            csmf_rft[i,j] = (X_test[i] == j).sum() / float(n)\n",
      "    assert np.allclose(csmf_rft.sum(axis=1), 1)  #  rows sum to one (modulo machine precision)\n",
      "\n",
      "\n",
      "    ########################################################\n",
      "    ########################################################\n",
      "    # calculate CSMF accuracy for all replicates\n",
      "\n",
      "    csmf_acc = 1 - np.sum(np.absolute(csmf_true - csmf_rft), axis=1) \\\n",
      "                        / (2 * (1 - np.min(csmf_true, axis=1)))\n",
      "\n",
      "\n",
      "    #plt.title('Mean CSMF Accuracy = %0.2f\\nfor I=%d, n=%d, r=%d replicates' % (np.mean(csmf_acc), I, n, r))\n",
      "    #sns.distplot(csmf_acc, rug=True, rug_kws={'alpha':.25})\n",
      "    \n",
      "    return csmf_acc\n",
      "\n",
      "acc = csmf_acc_for_rft(J=34)\n",
      "print acc.mean(), acc.std()\n",
      "\n",
      "acc = csmf_acc_for_rft(J=34, uniform_train=True)\n",
      "print acc.mean(), acc.std()"
     ],
     "language": "python",
     "metadata": {},
     "outputs": []
    },
    {
     "cell_type": "code",
     "collapsed": false,
     "input": [
      "%%time\n",
      "\n",
      "df = pd.DataFrame(columns=['J'])\n",
      "for J in range(3,51):\n",
      "    print J,\n",
      "    results_J = {'J':J}\n",
      "    \n",
      "    acc = csmf_acc_for_random(J, r=10000)\n",
      "    results_J['acc_rand'] = acc.mean()\n",
      "    results_J['acc_rand_lb'] = np.percentile(acc, 2.5)\n",
      "    results_J['acc_rand_ub'] = np.percentile(acc, 97.5)\n",
      "    \n",
      "    \n",
      "    c = concordance_for_random(J, r=500)\n",
      "    results_J['conc_rand'] = c.mean()\n",
      "    results_J['conc_rand_lb'] = np.percentile(c, 2.5)\n",
      "    results_J['conc_rand_ub'] = np.percentile(c, 97.5)\n",
      "\n",
      "    acc = csmf_acc_for_rft(J, r=500)\n",
      "    results_J['acc_rft'] = acc.mean()\n",
      "    results_J['acc_rft_lb'] = np.percentile(acc, 2.5)\n",
      "    results_J['acc_rft_ub'] = np.percentile(acc, 97.5)\n",
      "\n",
      "    acc = csmf_acc_for_rft(J, r=500, uniform_train=True)\n",
      "    results_J['acc_rft_unif'] = acc.mean()\n",
      "    results_J['acc_rft_unif_lb'] = np.percentile(acc, 2.5)\n",
      "    results_J['acc_rft_unif_ub'] = np.percentile(acc, 97.5)\n",
      "    \n",
      "    df = df.append(results_J, ignore_index=True)\n",
      "print\n",
      "df_sim = df"
     ],
     "language": "python",
     "metadata": {},
     "outputs": []
    },
    {
     "cell_type": "code",
     "collapsed": false,
     "input": [
      "df = df_sim\n",
      "df.head()"
     ],
     "language": "python",
     "metadata": {},
     "outputs": []
    },
    {
     "cell_type": "markdown",
     "metadata": {},
     "source": [
      "# Table 3\n",
      "\n",
      "CCCSMF accuracy of Random Allocation and Random-From-Train with and without resampling the test CSMF distribution. This table demonstrates the importance of resampling the CSMF distribution in the test set; if the test and train sets have the same CSMF distribution, then simple approaches like Random-From-Train, as well as state-of-the-art approaches like King-Lu,23 can appear to have better performance than is justified, due to \u201coverfitting\u201d."
     ]
    },
    {
     "cell_type": "code",
     "collapsed": false,
     "input": [
      "df.index = df.J\n",
      "np.round(1*((df.filter(['acc_rft', 'acc_rand', 'acc_rft_unif']) - .632) / (1-.632)).loc[[5,15,25,35,50,]], 3)"
     ],
     "language": "python",
     "metadata": {},
     "outputs": []
    },
    {
     "cell_type": "markdown",
     "metadata": {},
     "source": [
      "# Figure 1\n",
      "\n",
      "Figure 1. CSMF Accuracy of random allocation as a function of CoD list length.  The mean CSMF accuracy of random allocation was calculated with 10,000 Monte Carlo replicates for cause-list length ranging from 3 to 50.  The CSMF accuracy decreases monotonically as a function of J and appears to stay above 1-1/e\u22480.632, which we selected for our chance-correction parameter."
     ]
    },
    {
     "cell_type": "code",
     "collapsed": false,
     "input": [
      "df.acc_rand.plot(color='k',marker='o')\n",
      "\n",
      "plt.ylabel('CSMF Accuracy\\nof Random Allocation', rotation=0, ha='right')\n",
      "plt.xlabel('Number of Causes ($J$)')\n",
      "\n",
      "plt.axis(xmin=0, xmax=53)\n",
      "plt.subplots_adjust(left=.3)"
     ],
     "language": "python",
     "metadata": {},
     "outputs": []
    },
    {
     "cell_type": "markdown",
     "metadata": {},
     "source": [
      "# Figure 2\n",
      "\n",
      "Figure 2. Comparison of concordance from Monte Carlo calculation and analytic calculation. The analogous chance-correction value for concordance was calculated analytically in Murray et al.13, and we confirmed its accuracy in our simulation environment.  The absolute relative difference was always less than 1%."
     ]
    },
    {
     "cell_type": "code",
     "collapsed": false,
     "input": [
      "plt.plot(1/df.J, df.conc_rand, 'ko')\n",
      "plt.ylabel('Monte Carlo Estimate\\nof Concordance\\nof Random Allocation', rotation=0, ha='right')\n",
      "plt.xlabel('Analytically Calculated Concordance\\nof Random Allocation')\n",
      "\n",
      "df.index = df.J\n",
      "for j in [3,5,10,25,50]:\n",
      "    plt.text(1/float(j), df.conc_rand[j], '   $J=%d$'%j, ha='left', va='center', fontsize=24)\n",
      "    \n",
      "plt.subplots_adjust(left=.3)"
     ],
     "language": "python",
     "metadata": {},
     "outputs": []
    },
    {
     "cell_type": "markdown",
     "metadata": {},
     "source": [
      "# Figure 3\n",
      "\n",
      "Figure 3. Comparison of individual-level and population-level prediction quality for three commonly used methods: InterVA, Tariff, physician-certified verbal autopsy (PCVA).  Questions that rely on the deceased having health care experience (HCE) are necessary for population-level PCVA quality to surpass random guessing.  Data from Murray et al.12"
     ]
    },
    {
     "cell_type": "code",
     "collapsed": false,
     "input": [
      "df = pd.read_excel('va_methods_comparison.xlsx')\n",
      "\n",
      "# chance-correct accuracy\n",
      "df.accuracy = (df.accuracy - 0.632) / (1 - 0.632)\n",
      "df.head()"
     ],
     "language": "python",
     "metadata": {},
     "outputs": []
    },
    {
     "cell_type": "code",
     "collapsed": false,
     "input": [
      "fig, ax_list = plt.subplots(2, 3, sharex=True, sharey=True, figsize=(15,10))\n",
      "\n",
      "for i, hce in enumerate(['With HCE', 'Without HCE']):\n",
      "    for j, module in enumerate(['Neonate', 'Child', 'Adult']):\n",
      "        t = df[(df.hce==hce)&(df.module==module)&df.model.isin(['InterVA', 'PCVA', 'Tariff'])]\n",
      "        t = t.dropna(subset=['accuracy', 'CCC'])\n",
      "        ax = ax_list[i,j]\n",
      "        ax.axvline(0.64, color='grey', linestyle='--', linewidth=2)\n",
      "        ax.plot(t.accuracy, t.CCC, 'o', ms=15, color='grey', mec='k', mew=2, alpha=1)\n",
      "        \n",
      "        for k in t.index:\n",
      "            ha = 'left'\n",
      "            dx = .06\n",
      "            dy = 0\n",
      "            if t.model[k] == 'Tariff' and j==0:\n",
      "                ha = 'right'\n",
      "                dx = -.06\n",
      "            elif t.model[k] == 'InterVA':\n",
      "                dy = -.0\n",
      "            ax.text(t.accuracy[k]+dx, t.CCC[k]+dy, t.model[k], ha=ha, va='center', fontsize=18)\n",
      "        \n",
      "        if i == 0:\n",
      "            ax.set_title(module)\n",
      "    \n",
      "    ax = ax_list[i,2]\n",
      "    ax.set_ylabel(hce, labelpad=-320)\n",
      "\n",
      "ax = ax_list[0,0]\n",
      "ax.set_ylabel('Individual-Level Quality (CCC)', ha='center', position=(0,0))\n",
      "ax = ax_list[1,1]\n",
      "ax.set_xlabel('Population-Level Quality (CCCSMF Accuracy)')\n",
      "fig.subplots_adjust(wspace=0.1, hspace=0.1)\n",
      "\n",
      "ax.set_xticks([-.3, 0, .3])\n",
      "ax.set_yticks([.2, .4, .6, .8])\n",
      "ax.axis(xmin=-.4, xmax=.6, ymin=.15, ymax=.55)"
     ],
     "language": "python",
     "metadata": {},
     "outputs": []
    },
    {
     "cell_type": "code",
     "collapsed": false,
     "input": [
      "\n"
     ],
     "language": "python",
     "metadata": {},
     "outputs": []
    }
   ],
   "metadata": {}
  }
 ]
}