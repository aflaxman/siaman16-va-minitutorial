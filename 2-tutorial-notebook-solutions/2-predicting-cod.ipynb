{
 "metadata": {
  "name": "",
  "signature": "sha256:79b7a04831618619cb922814ec77e9bab54089122f7cdcbf587688e00d92d538"
 },
 "nbformat": 3,
 "nbformat_minor": 0,
 "worksheets": [
  {
   "cells": [
    {
     "cell_type": "markdown",
     "metadata": {},
     "source": [
      "# Let's make some predictions for Verbal Autopsies"
     ]
    },
    {
     "cell_type": "code",
     "collapsed": false,
     "input": [
      "import pandas as pd"
     ],
     "language": "python",
     "metadata": {},
     "outputs": [],
     "prompt_number": 1
    },
    {
     "cell_type": "code",
     "collapsed": false,
     "input": [
      "# a major part of the _art_ of applied machine learning\n",
      "# is \"feature engineering\", which means mapping the\n",
      "# raw data we loaded in the previous notebook into a \n",
      "# representation that is *good*.  I'm not going to\n",
      "# get into that now. Instead, here is what it might look like:\n",
      "\n",
      "df = pd.read_csv('../3-data/phmrc_cleaned.csv')\n",
      "df.head()"
     ],
     "language": "python",
     "metadata": {},
     "outputs": [
      {
       "html": [
        "<div style=\"max-width:1500px;overflow:auto;\">\n",
        "<table border=\"1\" class=\"dataframe\">\n",
        "  <thead>\n",
        "    <tr style=\"text-align: right;\">\n",
        "      <th></th>\n",
        "      <th>id</th>\n",
        "      <th>site</th>\n",
        "      <th>gs_code34</th>\n",
        "      <th>gs_text34</th>\n",
        "      <th>gs_code46</th>\n",
        "      <th>gs_text46</th>\n",
        "      <th>gs_code55</th>\n",
        "      <th>gs_text55</th>\n",
        "      <th>gs_comorbid1</th>\n",
        "      <th>gs_comorbid2</th>\n",
        "      <th>...</th>\n",
        "      <th>s9999162</th>\n",
        "      <th>s9999163</th>\n",
        "      <th>s9999164</th>\n",
        "      <th>s9999165</th>\n",
        "      <th>s9999166</th>\n",
        "      <th>s9999167</th>\n",
        "      <th>s9999168</th>\n",
        "      <th>s9999169</th>\n",
        "      <th>s9999170</th>\n",
        "      <th>s9999171</th>\n",
        "    </tr>\n",
        "  </thead>\n",
        "  <tbody>\n",
        "    <tr>\n",
        "      <th>0</th>\n",
        "      <td>A-21360001</td>\n",
        "      <td>AP</td>\n",
        "      <td>I64</td>\n",
        "      <td>Stroke</td>\n",
        "      <td>I64</td>\n",
        "      <td>Stroke</td>\n",
        "      <td>I64</td>\n",
        "      <td>Stroke</td>\n",
        "      <td>NaN</td>\n",
        "      <td>NaN</td>\n",
        "      <td>...</td>\n",
        "      <td>0</td>\n",
        "      <td>0</td>\n",
        "      <td>0</td>\n",
        "      <td>0</td>\n",
        "      <td>0</td>\n",
        "      <td>0</td>\n",
        "      <td>0</td>\n",
        "      <td>0</td>\n",
        "      <td>0</td>\n",
        "      <td>0</td>\n",
        "    </tr>\n",
        "    <tr>\n",
        "      <th>1</th>\n",
        "      <td>A-21360002</td>\n",
        "      <td>AP</td>\n",
        "      <td>N17</td>\n",
        "      <td>Renal Failure</td>\n",
        "      <td>N17</td>\n",
        "      <td>Renal Failure</td>\n",
        "      <td>N17</td>\n",
        "      <td>Renal Failure</td>\n",
        "      <td>NaN</td>\n",
        "      <td>NaN</td>\n",
        "      <td>...</td>\n",
        "      <td>0</td>\n",
        "      <td>0</td>\n",
        "      <td>0</td>\n",
        "      <td>0</td>\n",
        "      <td>1</td>\n",
        "      <td>0</td>\n",
        "      <td>0</td>\n",
        "      <td>0</td>\n",
        "      <td>0</td>\n",
        "      <td>0</td>\n",
        "    </tr>\n",
        "    <tr>\n",
        "      <th>2</th>\n",
        "      <td>A-21360004</td>\n",
        "      <td>AP</td>\n",
        "      <td>I64</td>\n",
        "      <td>Stroke</td>\n",
        "      <td>I64</td>\n",
        "      <td>Stroke</td>\n",
        "      <td>I64</td>\n",
        "      <td>Stroke</td>\n",
        "      <td>NaN</td>\n",
        "      <td>NaN</td>\n",
        "      <td>...</td>\n",
        "      <td>0</td>\n",
        "      <td>0</td>\n",
        "      <td>0</td>\n",
        "      <td>0</td>\n",
        "      <td>1</td>\n",
        "      <td>0</td>\n",
        "      <td>0</td>\n",
        "      <td>0</td>\n",
        "      <td>0</td>\n",
        "      <td>0</td>\n",
        "    </tr>\n",
        "    <tr>\n",
        "      <th>3</th>\n",
        "      <td>A-21360007</td>\n",
        "      <td>AP</td>\n",
        "      <td>I64</td>\n",
        "      <td>Stroke</td>\n",
        "      <td>I64</td>\n",
        "      <td>Stroke</td>\n",
        "      <td>I64</td>\n",
        "      <td>Stroke</td>\n",
        "      <td>NaN</td>\n",
        "      <td>NaN</td>\n",
        "      <td>...</td>\n",
        "      <td>0</td>\n",
        "      <td>0</td>\n",
        "      <td>0</td>\n",
        "      <td>0</td>\n",
        "      <td>1</td>\n",
        "      <td>0</td>\n",
        "      <td>0</td>\n",
        "      <td>0</td>\n",
        "      <td>0</td>\n",
        "      <td>0</td>\n",
        "    </tr>\n",
        "    <tr>\n",
        "      <th>4</th>\n",
        "      <td>A-21360008</td>\n",
        "      <td>AP</td>\n",
        "      <td>I64</td>\n",
        "      <td>Stroke</td>\n",
        "      <td>I64</td>\n",
        "      <td>Stroke</td>\n",
        "      <td>I64</td>\n",
        "      <td>Stroke</td>\n",
        "      <td>NaN</td>\n",
        "      <td>NaN</td>\n",
        "      <td>...</td>\n",
        "      <td>0</td>\n",
        "      <td>0</td>\n",
        "      <td>0</td>\n",
        "      <td>0</td>\n",
        "      <td>0</td>\n",
        "      <td>0</td>\n",
        "      <td>0</td>\n",
        "      <td>0</td>\n",
        "      <td>0</td>\n",
        "      <td>0</td>\n",
        "    </tr>\n",
        "  </tbody>\n",
        "</table>\n",
        "<p>5 rows \u00d7 355 columns</p>\n",
        "</div>"
       ],
       "metadata": {},
       "output_type": "pyout",
       "prompt_number": 2,
       "text": [
        "           id site gs_code34      gs_text34 gs_code46      gs_text46  \\\n",
        "0  A-21360001   AP       I64         Stroke       I64         Stroke   \n",
        "1  A-21360002   AP       N17  Renal Failure       N17  Renal Failure   \n",
        "2  A-21360004   AP       I64         Stroke       I64         Stroke   \n",
        "3  A-21360007   AP       I64         Stroke       I64         Stroke   \n",
        "4  A-21360008   AP       I64         Stroke       I64         Stroke   \n",
        "\n",
        "  gs_code55      gs_text55 gs_comorbid1 gs_comorbid2    ...     s9999162  \\\n",
        "0       I64         Stroke          NaN          NaN    ...            0   \n",
        "1       N17  Renal Failure          NaN          NaN    ...            0   \n",
        "2       I64         Stroke          NaN          NaN    ...            0   \n",
        "3       I64         Stroke          NaN          NaN    ...            0   \n",
        "4       I64         Stroke          NaN          NaN    ...            0   \n",
        "\n",
        "   s9999163  s9999164  s9999165  s9999166  s9999167  s9999168  s9999169  \\\n",
        "0         0         0         0         0         0         0         0   \n",
        "1         0         0         0         1         0         0         0   \n",
        "2         0         0         0         1         0         0         0   \n",
        "3         0         0         0         1         0         0         0   \n",
        "4         0         0         0         0         0         0         0   \n",
        "\n",
        "   s9999170  s9999171  \n",
        "0         0         0  \n",
        "1         0         0  \n",
        "2         0         0  \n",
        "3         0         0  \n",
        "4         0         0  \n",
        "\n",
        "[5 rows x 355 columns]"
       ]
      }
     ],
     "prompt_number": 2
    },
    {
     "cell_type": "code",
     "collapsed": false,
     "input": [
      "# remember that the fundamental package for\n",
      "# scientific computing with Python? \n",
      "\n",
      "import numpy as np"
     ],
     "language": "python",
     "metadata": {},
     "outputs": [],
     "prompt_number": 3
    },
    {
     "cell_type": "code",
     "collapsed": false,
     "input": [
      "# we will use it to create an array of feature vectors\n",
      "# and an array of the corresponding labels\n",
      "\n",
      "#X = np.array(df.filter(like='s1'))\n",
      "X = np.array(df.filter(regex='^(s[0-9]+|age|sex)').fillna(0))\n",
      "y = np.array(df.gs_text34)"
     ],
     "language": "python",
     "metadata": {},
     "outputs": [],
     "prompt_number": 4
    },
    {
     "cell_type": "code",
     "collapsed": false,
     "input": [
      "# how much data are we dealing with here?\n",
      "\n",
      "X.shape"
     ],
     "language": "python",
     "metadata": {},
     "outputs": [
      {
       "metadata": {},
       "output_type": "pyout",
       "prompt_number": 5,
       "text": [
        "(7846, 341)"
       ]
      }
     ],
     "prompt_number": 5
    },
    {
     "cell_type": "markdown",
     "metadata": {},
     "source": [
      "# Our first ML method for predicting cause-of-death:"
     ]
    },
    {
     "cell_type": "code",
     "collapsed": false,
     "input": [
      "# Here is how to train a charmingly self-deprecating\n",
      "# ML method, Naive Bayes, to predict underlying CoD\n",
      "# with sklearn\n",
      "\n",
      "import sklearn.naive_bayes"
     ],
     "language": "python",
     "metadata": {},
     "outputs": [],
     "prompt_number": 6
    },
    {
     "cell_type": "code",
     "collapsed": false,
     "input": [
      "clf = sklearn.naive_bayes.BernoulliNB()"
     ],
     "language": "python",
     "metadata": {},
     "outputs": [],
     "prompt_number": 7
    },
    {
     "cell_type": "code",
     "collapsed": false,
     "input": [
      "clf.fit(X, y)"
     ],
     "language": "python",
     "metadata": {},
     "outputs": [
      {
       "metadata": {},
       "output_type": "pyout",
       "prompt_number": 8,
       "text": [
        "BernoulliNB(alpha=1.0, binarize=0.0, class_prior=None, fit_prior=True)"
       ]
      }
     ],
     "prompt_number": 8
    },
    {
     "cell_type": "code",
     "collapsed": false,
     "input": [
      "# Let's see how it works for a single feature vector:\n",
      "\n",
      "clf.predict(X[[0], :])"
     ],
     "language": "python",
     "metadata": {},
     "outputs": [
      {
       "metadata": {},
       "output_type": "pyout",
       "prompt_number": 9,
       "text": [
        "array(['Stroke'], \n",
        "      dtype='|S31')"
       ]
      }
     ],
     "prompt_number": 9
    },
    {
     "cell_type": "code",
     "collapsed": false,
     "input": [
      "# And what was the true label for this example?\n",
      "\n",
      "y[0]"
     ],
     "language": "python",
     "metadata": {},
     "outputs": [
      {
       "metadata": {},
       "output_type": "pyout",
       "prompt_number": 10,
       "text": [
        "'Stroke'"
       ]
      }
     ],
     "prompt_number": 10
    },
    {
     "cell_type": "code",
     "collapsed": false,
     "input": [
      "# So let's see how well it is making predictions overall:\n",
      "\n",
      "y_pred = clf.predict(X)"
     ],
     "language": "python",
     "metadata": {},
     "outputs": [],
     "prompt_number": 11
    },
    {
     "cell_type": "code",
     "collapsed": false,
     "input": [
      "np.mean(y == y_pred)"
     ],
     "language": "python",
     "metadata": {},
     "outputs": [
      {
       "metadata": {},
       "output_type": "pyout",
       "prompt_number": 12,
       "text": [
        "0.51389242926331891"
       ]
      }
     ],
     "prompt_number": 12
    },
    {
     "cell_type": "markdown",
     "metadata": {},
     "source": [
      "# Want to try it again with a totally different ML method?"
     ]
    },
    {
     "cell_type": "code",
     "collapsed": false,
     "input": [
      "import sklearn.neighbors"
     ],
     "language": "python",
     "metadata": {},
     "outputs": [],
     "prompt_number": 13
    },
    {
     "cell_type": "code",
     "collapsed": false,
     "input": [
      "clf = sklearn.neighbors.KNeighborsClassifier()"
     ],
     "language": "python",
     "metadata": {},
     "outputs": [],
     "prompt_number": 14
    },
    {
     "cell_type": "code",
     "collapsed": false,
     "input": [
      "clf.fit(X, y)"
     ],
     "language": "python",
     "metadata": {},
     "outputs": [
      {
       "metadata": {},
       "output_type": "pyout",
       "prompt_number": 15,
       "text": [
        "KNeighborsClassifier(algorithm='auto', leaf_size=30, metric='minkowski',\n",
        "           metric_params=None, n_jobs=1, n_neighbors=5, p=2,\n",
        "           weights='uniform')"
       ]
      }
     ],
     "prompt_number": 15
    },
    {
     "cell_type": "code",
     "collapsed": false,
     "input": [
      "clf.predict(X[[2], :])"
     ],
     "language": "python",
     "metadata": {},
     "outputs": [
      {
       "metadata": {},
       "output_type": "pyout",
       "prompt_number": 16,
       "text": [
        "array(['Other Infectious Diseases'], dtype=object)"
       ]
      }
     ],
     "prompt_number": 16
    },
    {
     "cell_type": "code",
     "collapsed": false,
     "input": [
      "y[2]"
     ],
     "language": "python",
     "metadata": {},
     "outputs": [
      {
       "metadata": {},
       "output_type": "pyout",
       "prompt_number": 17,
       "text": [
        "'Stroke'"
       ]
      }
     ],
     "prompt_number": 17
    },
    {
     "cell_type": "code",
     "collapsed": false,
     "input": [
      "%time y_pred = clf.predict(X)"
     ],
     "language": "python",
     "metadata": {},
     "outputs": [
      {
       "output_type": "stream",
       "stream": "stdout",
       "text": [
        "CPU times: user 1min 23s, sys: 17 ms, total: 1min 23s\n",
        "Wall time: 1min 24s\n"
       ]
      }
     ],
     "prompt_number": 18
    },
    {
     "cell_type": "code",
     "collapsed": false,
     "input": [
      "np.mean(y == y_pred)"
     ],
     "language": "python",
     "metadata": {},
     "outputs": [
      {
       "metadata": {},
       "output_type": "pyout",
       "prompt_number": 19,
       "text": [
        "0.54371654346163645"
       ]
      }
     ],
     "prompt_number": 19
    },
    {
     "cell_type": "markdown",
     "metadata": {},
     "source": [
      "# One more time, with the second-coolest method in town:"
     ]
    },
    {
     "cell_type": "code",
     "collapsed": false,
     "input": [
      "import sklearn.ensemble"
     ],
     "language": "python",
     "metadata": {},
     "outputs": [],
     "prompt_number": 20
    },
    {
     "cell_type": "code",
     "collapsed": false,
     "input": [
      "clf = sklearn.ensemble.GradientBoostingClassifier()"
     ],
     "language": "python",
     "metadata": {},
     "outputs": [],
     "prompt_number": 21
    },
    {
     "cell_type": "code",
     "collapsed": false,
     "input": [
      "%time clf.fit(X, y)"
     ],
     "language": "python",
     "metadata": {},
     "outputs": [
      {
       "output_type": "stream",
       "stream": "stdout",
       "text": [
        "CPU times: user 5min 28s, sys: 50 ms, total: 5min 28s\n",
        "Wall time: 5min 28s\n"
       ]
      },
      {
       "metadata": {},
       "output_type": "pyout",
       "prompt_number": 22,
       "text": [
        "GradientBoostingClassifier(init=None, learning_rate=0.1, loss='deviance',\n",
        "              max_depth=3, max_features=None, max_leaf_nodes=None,\n",
        "              min_samples_leaf=1, min_samples_split=2,\n",
        "              min_weight_fraction_leaf=0.0, n_estimators=100,\n",
        "              presort='auto', random_state=None, subsample=1.0, verbose=0,\n",
        "              warm_start=False)"
       ]
      }
     ],
     "prompt_number": 22
    },
    {
     "cell_type": "code",
     "collapsed": false,
     "input": [
      "clf.predict(X[[1], :])"
     ],
     "language": "python",
     "metadata": {},
     "outputs": [
      {
       "metadata": {},
       "output_type": "pyout",
       "prompt_number": 23,
       "text": [
        "array(['Other Infectious Diseases'], dtype=object)"
       ]
      }
     ],
     "prompt_number": 23
    },
    {
     "cell_type": "code",
     "collapsed": false,
     "input": [
      "y[1]"
     ],
     "language": "python",
     "metadata": {},
     "outputs": [
      {
       "metadata": {},
       "output_type": "pyout",
       "prompt_number": 24,
       "text": [
        "'Renal Failure'"
       ]
      }
     ],
     "prompt_number": 24
    },
    {
     "cell_type": "code",
     "collapsed": false,
     "input": [
      "y_pred = clf.predict(X)"
     ],
     "language": "python",
     "metadata": {},
     "outputs": [],
     "prompt_number": 25
    },
    {
     "cell_type": "code",
     "collapsed": false,
     "input": [
      "np.mean(y == y_pred)"
     ],
     "language": "python",
     "metadata": {},
     "outputs": [
      {
       "metadata": {},
       "output_type": "pyout",
       "prompt_number": 26,
       "text": [
        "0.77899566658169772"
       ]
      }
     ],
     "prompt_number": 26
    },
    {
     "cell_type": "markdown",
     "metadata": {},
     "source": [
      "# Is that good?"
     ]
    }
   ],
   "metadata": {}
  }
 ]
}