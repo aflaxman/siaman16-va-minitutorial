{
 "metadata": {
  "kernelspec": {
   "display_name": "Python 3",
   "language": "python",
   "name": "python3"
  },
  "language_info": {
   "codemirror_mode": {
    "name": "ipython",
    "version": 3
   },
   "file_extension": ".py",
   "mimetype": "text/x-python",
   "name": "python",
   "nbconvert_exporter": "python",
   "pygments_lexer": "ipython3",
   "version": "3.4.4"
  },
  "name": "",
  "signature": "sha256:c8ee9f30d19e2d00f681837de6ac43e86f82a8a1cfac5ea829c0a69cdeffcaea"
 },
 "nbformat": 3,
 "nbformat_minor": 0,
 "worksheets": [
  {
   "cells": [
    {
     "cell_type": "heading",
     "level": 1,
     "metadata": {},
     "source": [
      "Replication Archive for \"Measuring causes of death in populations: a new metric that corrects cause-specific mortality fractions for chance\""
     ]
    },
    {
     "cell_type": "code",
     "collapsed": false,
     "input": [
      "!date\n",
      "\n",
      "import numpy as np, pandas as pd, matplotlib.pyplot as plt, seaborn as sns\n",
      "%matplotlib inline\n",
      "\n",
      "sns.set_style('whitegrid')\n",
      "sns.set_context('poster')"
     ],
     "language": "python",
     "metadata": {},
     "outputs": [
      {
       "output_type": "stream",
       "stream": "stdout",
       "text": [
        "Sun Jul 10 10:19:30 PDT 2016\r\n"
       ]
      }
     ],
     "prompt_number": 1
    },
    {
     "cell_type": "markdown",
     "metadata": {},
     "source": [
      "# Table 1\n",
      "\n",
      "Confusion matrices for physician-certified verbal autopsy and random-allocation verbal autopsy. Panel A shows the confusion matrix for physician certified verbal autopsy (with a length-three cause list for clarity). The entry each cell counts the number of deaths truly due to the row cause that were predicted to be due to the column cause.  For example, the value 83 in the \u201cother\u201d row, \u201cstroke\u201d column indicates that 83 deaths truly due to causes other than stroke or diabetes were (incorrectly) attributed to stroke by physicians.  This table demonstrates that (for this dataset) physicians are right more often than they are wrong when they predict stroke as the cause of death, but wrong more than they are right when they predict diabetes. Panel B shows the confusion matrix for Random Allocation with the same dataset, where random chance predicts stroke and diabetes incorrectly for a vast majority of the cases.  True and PCVA data from Lozano et al., 2011, where physicians were presented with VAI data where the underlying cause was known to meet stringent clinical diagnostic criteria, and their results compared to the truth.18\n",
      "\n"
     ]
    },
    {
     "cell_type": "code",
     "collapsed": false,
     "input": [
      "df = pd.read_csv('../3-data/pcva_results.csv')"
     ],
     "language": "python",
     "metadata": {},
     "outputs": [],
     "prompt_number": 2
    },
    {
     "cell_type": "code",
     "collapsed": false,
     "input": [
      "df"
     ],
     "language": "python",
     "metadata": {},
     "outputs": [
      {
       "html": [
        "<div style=\"max-width:1500px;overflow:auto;\">\n",
        "<table border=\"1\" class=\"dataframe\">\n",
        "  <thead>\n",
        "    <tr style=\"text-align: right;\">\n",
        "      <th></th>\n",
        "      <th>id</th>\n",
        "      <th>gs_text34</th>\n",
        "      <th>gs_assigned_MRR_1</th>\n",
        "    </tr>\n",
        "  </thead>\n",
        "  <tbody>\n",
        "    <tr>\n",
        "      <th>0</th>\n",
        "      <td>0</td>\n",
        "      <td>Stroke</td>\n",
        "      <td>ZZ23</td>\n",
        "    </tr>\n",
        "    <tr>\n",
        "      <th>1</th>\n",
        "      <td>1</td>\n",
        "      <td>IHD - Acute Myocardial Infarction</td>\n",
        "      <td>I21</td>\n",
        "    </tr>\n",
        "    <tr>\n",
        "      <th>2</th>\n",
        "      <td>2</td>\n",
        "      <td>Stroke</td>\n",
        "      <td>I64</td>\n",
        "    </tr>\n",
        "    <tr>\n",
        "      <th>3</th>\n",
        "      <td>3</td>\n",
        "      <td>Pneumonia</td>\n",
        "      <td>E10</td>\n",
        "    </tr>\n",
        "    <tr>\n",
        "      <th>4</th>\n",
        "      <td>4</td>\n",
        "      <td>Stroke</td>\n",
        "      <td>I64</td>\n",
        "    </tr>\n",
        "    <tr>\n",
        "      <th>5</th>\n",
        "      <td>5</td>\n",
        "      <td>Other Cardiovascular Diseases</td>\n",
        "      <td>ZZ25</td>\n",
        "    </tr>\n",
        "    <tr>\n",
        "      <th>6</th>\n",
        "      <td>6</td>\n",
        "      <td>Diabetes</td>\n",
        "      <td>E10</td>\n",
        "    </tr>\n",
        "    <tr>\n",
        "      <th>7</th>\n",
        "      <td>7</td>\n",
        "      <td>Renal Failure</td>\n",
        "      <td>D91</td>\n",
        "    </tr>\n",
        "    <tr>\n",
        "      <th>8</th>\n",
        "      <td>8</td>\n",
        "      <td>Stroke</td>\n",
        "      <td>ZZ23</td>\n",
        "    </tr>\n",
        "    <tr>\n",
        "      <th>9</th>\n",
        "      <td>9</td>\n",
        "      <td>IHD - Acute Myocardial Infarction</td>\n",
        "      <td>ZZ23</td>\n",
        "    </tr>\n",
        "    <tr>\n",
        "      <th>10</th>\n",
        "      <td>10</td>\n",
        "      <td>Cirrhosis</td>\n",
        "      <td>A09</td>\n",
        "    </tr>\n",
        "    <tr>\n",
        "      <th>11</th>\n",
        "      <td>11</td>\n",
        "      <td>Stroke</td>\n",
        "      <td>ZZ23</td>\n",
        "    </tr>\n",
        "    <tr>\n",
        "      <th>12</th>\n",
        "      <td>12</td>\n",
        "      <td>Stroke</td>\n",
        "      <td>ZZ23</td>\n",
        "    </tr>\n",
        "    <tr>\n",
        "      <th>13</th>\n",
        "      <td>13</td>\n",
        "      <td>Stroke</td>\n",
        "      <td>W00</td>\n",
        "    </tr>\n",
        "    <tr>\n",
        "      <th>14</th>\n",
        "      <td>14</td>\n",
        "      <td>Other Cardiovascular Diseases</td>\n",
        "      <td>I21</td>\n",
        "    </tr>\n",
        "    <tr>\n",
        "      <th>15</th>\n",
        "      <td>15</td>\n",
        "      <td>Diabetes</td>\n",
        "      <td>E10</td>\n",
        "    </tr>\n",
        "    <tr>\n",
        "      <th>16</th>\n",
        "      <td>16</td>\n",
        "      <td>Poisonings</td>\n",
        "      <td>ZZ25</td>\n",
        "    </tr>\n",
        "    <tr>\n",
        "      <th>17</th>\n",
        "      <td>17</td>\n",
        "      <td>Diarrhea/Dysentery</td>\n",
        "      <td>I64</td>\n",
        "    </tr>\n",
        "    <tr>\n",
        "      <th>18</th>\n",
        "      <td>18</td>\n",
        "      <td>Stroke</td>\n",
        "      <td>ZZ23</td>\n",
        "    </tr>\n",
        "    <tr>\n",
        "      <th>19</th>\n",
        "      <td>19</td>\n",
        "      <td>IHD - Acute Myocardial Infarction</td>\n",
        "      <td>ZZ23</td>\n",
        "    </tr>\n",
        "    <tr>\n",
        "      <th>20</th>\n",
        "      <td>20</td>\n",
        "      <td>Epilepsy</td>\n",
        "      <td>J45</td>\n",
        "    </tr>\n",
        "    <tr>\n",
        "      <th>21</th>\n",
        "      <td>21</td>\n",
        "      <td>Falls</td>\n",
        "      <td>W00</td>\n",
        "    </tr>\n",
        "    <tr>\n",
        "      <th>22</th>\n",
        "      <td>22</td>\n",
        "      <td>Stroke</td>\n",
        "      <td>ZZ25</td>\n",
        "    </tr>\n",
        "    <tr>\n",
        "      <th>23</th>\n",
        "      <td>23</td>\n",
        "      <td>IHD - Acute Myocardial Infarction</td>\n",
        "      <td>E10</td>\n",
        "    </tr>\n",
        "    <tr>\n",
        "      <th>24</th>\n",
        "      <td>24</td>\n",
        "      <td>IHD - Acute Myocardial Infarction</td>\n",
        "      <td>E10</td>\n",
        "    </tr>\n",
        "    <tr>\n",
        "      <th>25</th>\n",
        "      <td>25</td>\n",
        "      <td>Pneumonia</td>\n",
        "      <td>J33</td>\n",
        "    </tr>\n",
        "    <tr>\n",
        "      <th>26</th>\n",
        "      <td>26</td>\n",
        "      <td>Stroke</td>\n",
        "      <td>ZZ23</td>\n",
        "    </tr>\n",
        "    <tr>\n",
        "      <th>27</th>\n",
        "      <td>27</td>\n",
        "      <td>IHD - Acute Myocardial Infarction</td>\n",
        "      <td>I21</td>\n",
        "    </tr>\n",
        "    <tr>\n",
        "      <th>28</th>\n",
        "      <td>28</td>\n",
        "      <td>Stroke</td>\n",
        "      <td>ZZ23</td>\n",
        "    </tr>\n",
        "    <tr>\n",
        "      <th>29</th>\n",
        "      <td>29</td>\n",
        "      <td>Falls</td>\n",
        "      <td>W00</td>\n",
        "    </tr>\n",
        "    <tr>\n",
        "      <th>...</th>\n",
        "      <td>...</td>\n",
        "      <td>...</td>\n",
        "      <td>...</td>\n",
        "    </tr>\n",
        "    <tr>\n",
        "      <th>2672</th>\n",
        "      <td>2672</td>\n",
        "      <td>Other Infectious Diseases</td>\n",
        "      <td>J33</td>\n",
        "    </tr>\n",
        "    <tr>\n",
        "      <th>2673</th>\n",
        "      <td>2673</td>\n",
        "      <td>Cirrhosis</td>\n",
        "      <td>ZZ21</td>\n",
        "    </tr>\n",
        "    <tr>\n",
        "      <th>2674</th>\n",
        "      <td>2674</td>\n",
        "      <td>Poisonings</td>\n",
        "      <td>ZZ27</td>\n",
        "    </tr>\n",
        "    <tr>\n",
        "      <th>2675</th>\n",
        "      <td>2675</td>\n",
        "      <td>Other Infectious Diseases</td>\n",
        "      <td>ZZ21</td>\n",
        "    </tr>\n",
        "    <tr>\n",
        "      <th>2676</th>\n",
        "      <td>2676</td>\n",
        "      <td>Other Infectious Diseases</td>\n",
        "      <td>J45</td>\n",
        "    </tr>\n",
        "    <tr>\n",
        "      <th>2677</th>\n",
        "      <td>2677</td>\n",
        "      <td>Pneumonia</td>\n",
        "      <td>E10</td>\n",
        "    </tr>\n",
        "    <tr>\n",
        "      <th>2678</th>\n",
        "      <td>2678</td>\n",
        "      <td>Diabetes</td>\n",
        "      <td>K71</td>\n",
        "    </tr>\n",
        "    <tr>\n",
        "      <th>2679</th>\n",
        "      <td>2679</td>\n",
        "      <td>Maternal</td>\n",
        "      <td>O67</td>\n",
        "    </tr>\n",
        "    <tr>\n",
        "      <th>2680</th>\n",
        "      <td>2680</td>\n",
        "      <td>Other Infectious Diseases</td>\n",
        "      <td>ZZ27</td>\n",
        "    </tr>\n",
        "    <tr>\n",
        "      <th>2681</th>\n",
        "      <td>2681</td>\n",
        "      <td>Maternal</td>\n",
        "      <td>O67</td>\n",
        "    </tr>\n",
        "    <tr>\n",
        "      <th>2682</th>\n",
        "      <td>2682</td>\n",
        "      <td>Drowning</td>\n",
        "      <td>ZZ27</td>\n",
        "    </tr>\n",
        "    <tr>\n",
        "      <th>2683</th>\n",
        "      <td>2683</td>\n",
        "      <td>Falls</td>\n",
        "      <td>ZZ27</td>\n",
        "    </tr>\n",
        "    <tr>\n",
        "      <th>2684</th>\n",
        "      <td>2684</td>\n",
        "      <td>Renal Failure</td>\n",
        "      <td>O67</td>\n",
        "    </tr>\n",
        "    <tr>\n",
        "      <th>2685</th>\n",
        "      <td>2685</td>\n",
        "      <td>Suicide</td>\n",
        "      <td>ZZ27</td>\n",
        "    </tr>\n",
        "    <tr>\n",
        "      <th>2686</th>\n",
        "      <td>2686</td>\n",
        "      <td>IHD - Acute Myocardial Infarction</td>\n",
        "      <td>I21</td>\n",
        "    </tr>\n",
        "    <tr>\n",
        "      <th>2687</th>\n",
        "      <td>2687</td>\n",
        "      <td>Fires</td>\n",
        "      <td>ZZ27</td>\n",
        "    </tr>\n",
        "    <tr>\n",
        "      <th>2688</th>\n",
        "      <td>2688</td>\n",
        "      <td>Homicide</td>\n",
        "      <td>ZZ27</td>\n",
        "    </tr>\n",
        "    <tr>\n",
        "      <th>2689</th>\n",
        "      <td>2689</td>\n",
        "      <td>Homicide</td>\n",
        "      <td>Y00</td>\n",
        "    </tr>\n",
        "    <tr>\n",
        "      <th>2690</th>\n",
        "      <td>2690</td>\n",
        "      <td>Maternal</td>\n",
        "      <td>O67</td>\n",
        "    </tr>\n",
        "    <tr>\n",
        "      <th>2691</th>\n",
        "      <td>2691</td>\n",
        "      <td>Fires</td>\n",
        "      <td>ZZ27</td>\n",
        "    </tr>\n",
        "    <tr>\n",
        "      <th>2692</th>\n",
        "      <td>2692</td>\n",
        "      <td>Drowning</td>\n",
        "      <td>ZZ27</td>\n",
        "    </tr>\n",
        "    <tr>\n",
        "      <th>2693</th>\n",
        "      <td>2693</td>\n",
        "      <td>Fires</td>\n",
        "      <td>ZZ27</td>\n",
        "    </tr>\n",
        "    <tr>\n",
        "      <th>2694</th>\n",
        "      <td>2694</td>\n",
        "      <td>Drowning</td>\n",
        "      <td>W65</td>\n",
        "    </tr>\n",
        "    <tr>\n",
        "      <th>2695</th>\n",
        "      <td>2695</td>\n",
        "      <td>Drowning</td>\n",
        "      <td>ZZ25</td>\n",
        "    </tr>\n",
        "    <tr>\n",
        "      <th>2696</th>\n",
        "      <td>2696</td>\n",
        "      <td>Fires</td>\n",
        "      <td>ZZ27</td>\n",
        "    </tr>\n",
        "    <tr>\n",
        "      <th>2697</th>\n",
        "      <td>2697</td>\n",
        "      <td>Drowning</td>\n",
        "      <td>W65</td>\n",
        "    </tr>\n",
        "    <tr>\n",
        "      <th>2698</th>\n",
        "      <td>2698</td>\n",
        "      <td>Homicide</td>\n",
        "      <td>Y00</td>\n",
        "    </tr>\n",
        "    <tr>\n",
        "      <th>2699</th>\n",
        "      <td>2699</td>\n",
        "      <td>Pneumonia</td>\n",
        "      <td>ZZ23</td>\n",
        "    </tr>\n",
        "    <tr>\n",
        "      <th>2700</th>\n",
        "      <td>2700</td>\n",
        "      <td>IHD - Acute Myocardial Infarction</td>\n",
        "      <td>I21</td>\n",
        "    </tr>\n",
        "    <tr>\n",
        "      <th>2701</th>\n",
        "      <td>2701</td>\n",
        "      <td>Cirrhosis</td>\n",
        "      <td>K71</td>\n",
        "    </tr>\n",
        "  </tbody>\n",
        "</table>\n",
        "<p>2702 rows \u00d7 3 columns</p>\n",
        "</div>"
       ],
       "metadata": {},
       "output_type": "pyout",
       "prompt_number": 3,
       "text": [
        "        id                          gs_text34 gs_assigned_MRR_1\n",
        "0        0                             Stroke              ZZ23\n",
        "1        1  IHD - Acute Myocardial Infarction               I21\n",
        "2        2                             Stroke               I64\n",
        "3        3                          Pneumonia               E10\n",
        "4        4                             Stroke               I64\n",
        "5        5      Other Cardiovascular Diseases              ZZ25\n",
        "6        6                           Diabetes               E10\n",
        "7        7                      Renal Failure               D91\n",
        "8        8                             Stroke              ZZ23\n",
        "9        9  IHD - Acute Myocardial Infarction              ZZ23\n",
        "10      10                          Cirrhosis               A09\n",
        "11      11                             Stroke              ZZ23\n",
        "12      12                             Stroke              ZZ23\n",
        "13      13                             Stroke               W00\n",
        "14      14      Other Cardiovascular Diseases               I21\n",
        "15      15                           Diabetes               E10\n",
        "16      16                         Poisonings              ZZ25\n",
        "17      17                 Diarrhea/Dysentery               I64\n",
        "18      18                             Stroke              ZZ23\n",
        "19      19  IHD - Acute Myocardial Infarction              ZZ23\n",
        "20      20                           Epilepsy               J45\n",
        "21      21                              Falls               W00\n",
        "22      22                             Stroke              ZZ25\n",
        "23      23  IHD - Acute Myocardial Infarction               E10\n",
        "24      24  IHD - Acute Myocardial Infarction               E10\n",
        "25      25                          Pneumonia               J33\n",
        "26      26                             Stroke              ZZ23\n",
        "27      27  IHD - Acute Myocardial Infarction               I21\n",
        "28      28                             Stroke              ZZ23\n",
        "29      29                              Falls               W00\n",
        "...    ...                                ...               ...\n",
        "2672  2672          Other Infectious Diseases               J33\n",
        "2673  2673                          Cirrhosis              ZZ21\n",
        "2674  2674                         Poisonings              ZZ27\n",
        "2675  2675          Other Infectious Diseases              ZZ21\n",
        "2676  2676          Other Infectious Diseases               J45\n",
        "2677  2677                          Pneumonia               E10\n",
        "2678  2678                           Diabetes               K71\n",
        "2679  2679                           Maternal               O67\n",
        "2680  2680          Other Infectious Diseases              ZZ27\n",
        "2681  2681                           Maternal               O67\n",
        "2682  2682                           Drowning              ZZ27\n",
        "2683  2683                              Falls              ZZ27\n",
        "2684  2684                      Renal Failure               O67\n",
        "2685  2685                            Suicide              ZZ27\n",
        "2686  2686  IHD - Acute Myocardial Infarction               I21\n",
        "2687  2687                              Fires              ZZ27\n",
        "2688  2688                           Homicide              ZZ27\n",
        "2689  2689                           Homicide               Y00\n",
        "2690  2690                           Maternal               O67\n",
        "2691  2691                              Fires              ZZ27\n",
        "2692  2692                           Drowning              ZZ27\n",
        "2693  2693                              Fires              ZZ27\n",
        "2694  2694                           Drowning               W65\n",
        "2695  2695                           Drowning              ZZ25\n",
        "2696  2696                              Fires              ZZ27\n",
        "2697  2697                           Drowning               W65\n",
        "2698  2698                           Homicide               Y00\n",
        "2699  2699                          Pneumonia              ZZ23\n",
        "2700  2700  IHD - Acute Myocardial Infarction               I21\n",
        "2701  2701                          Cirrhosis               K71\n",
        "\n",
        "[2702 rows x 3 columns]"
       ]
      }
     ],
     "prompt_number": 3
    },
    {
     "cell_type": "code",
     "collapsed": false,
     "input": [
      "df['gs3'] = 'Other'\n",
      "df.loc[df.gs_text34=='Stroke', 'gs3'] = 'Stroke'\n",
      "df.loc[df.gs_text34=='Diabetes', 'gs3'] = 'Diabetes'"
     ],
     "language": "python",
     "metadata": {},
     "outputs": [],
     "prompt_number": 4
    },
    {
     "cell_type": "code",
     "collapsed": false,
     "input": [
      "df.gs3.value_counts()"
     ],
     "language": "python",
     "metadata": {},
     "outputs": [
      {
       "metadata": {},
       "output_type": "pyout",
       "prompt_number": 5,
       "text": [
        "Other       2290\n",
        "Stroke       266\n",
        "Diabetes     146\n",
        "Name: gs3, dtype: int64"
       ]
      }
     ],
     "prompt_number": 5
    },
    {
     "cell_type": "code",
     "collapsed": false,
     "input": [
      "df['pc3'] = 'Other'\n",
      "df.loc[df.gs_assigned_MRR_1=='I64', 'pc3'] = 'Stroke'\n",
      "df.loc[df.gs_assigned_MRR_1=='E10', 'pc3'] = 'Diabetes'"
     ],
     "language": "python",
     "metadata": {},
     "outputs": [],
     "prompt_number": 6
    },
    {
     "cell_type": "code",
     "collapsed": false,
     "input": [
      "df.pc3.value_counts()"
     ],
     "language": "python",
     "metadata": {},
     "outputs": [
      {
       "metadata": {},
       "output_type": "pyout",
       "prompt_number": 7,
       "text": [
        "Other       2292\n",
        "Stroke       211\n",
        "Diabetes     199\n",
        "Name: pc3, dtype: int64"
       ]
      }
     ],
     "prompt_number": 7
    },
    {
     "cell_type": "heading",
     "level": 2,
     "metadata": {},
     "source": [
      "Panel A"
     ]
    },
    {
     "cell_type": "code",
     "collapsed": false,
     "input": [
      "cnts = df.groupby(['gs3', 'pc3']).id.count()\n",
      "cnts = cnts.unstack()\n",
      "cnts = pd.DataFrame(cnts, columns=['Stroke', 'Diabetes', 'Other'], index = ['Stroke', 'Diabetes', 'Other'])\n",
      "cnts"
     ],
     "language": "python",
     "metadata": {},
     "outputs": [
      {
       "html": [
        "<div style=\"max-width:1500px;overflow:auto;\">\n",
        "<table border=\"1\" class=\"dataframe\">\n",
        "  <thead>\n",
        "    <tr style=\"text-align: right;\">\n",
        "      <th></th>\n",
        "      <th>Stroke</th>\n",
        "      <th>Diabetes</th>\n",
        "      <th>Other</th>\n",
        "    </tr>\n",
        "  </thead>\n",
        "  <tbody>\n",
        "    <tr>\n",
        "      <th>Stroke</th>\n",
        "      <td>123</td>\n",
        "      <td>18</td>\n",
        "      <td>125</td>\n",
        "    </tr>\n",
        "    <tr>\n",
        "      <th>Diabetes</th>\n",
        "      <td>5</td>\n",
        "      <td>86</td>\n",
        "      <td>55</td>\n",
        "    </tr>\n",
        "    <tr>\n",
        "      <th>Other</th>\n",
        "      <td>83</td>\n",
        "      <td>95</td>\n",
        "      <td>2112</td>\n",
        "    </tr>\n",
        "  </tbody>\n",
        "</table>\n",
        "</div>"
       ],
       "metadata": {},
       "output_type": "pyout",
       "prompt_number": 8,
       "text": [
        "          Stroke  Diabetes  Other\n",
        "Stroke       123        18    125\n",
        "Diabetes       5        86     55\n",
        "Other         83        95   2112"
       ]
      }
     ],
     "prompt_number": 8
    },
    {
     "cell_type": "code",
     "collapsed": false,
     "input": [
      "# spot-check a few things\n",
      "\n",
      "assert np.all(cnts.sum(axis=0) - df.pc3.value_counts() == 0)\n",
      "assert np.all(cnts.sum(axis=1) - df.gs3.value_counts() == 0)\n",
      "\n",
      "assert cnts.loc['Stroke', 'Stroke'] == ((df.pc3=='Stroke') & (df.gs3=='Stroke')).sum()\n",
      "assert cnts.loc['Stroke', 'Other'] == ((df.pc3=='Other') & (df.gs3=='Stroke')).sum()"
     ],
     "language": "python",
     "metadata": {},
     "outputs": [],
     "prompt_number": 9
    },
    {
     "cell_type": "heading",
     "level": 2,
     "metadata": {},
     "source": [
      "Panel B"
     ]
    },
    {
     "cell_type": "code",
     "collapsed": false,
     "input": [
      "# set seed for reproducibility\n",
      "np.random.seed(12345)\n",
      "\n",
      "df['ra3'] = np.random.choice(['Stroke', 'Diabetes', 'Other'], size=len(df.index))"
     ],
     "language": "python",
     "metadata": {},
     "outputs": [],
     "prompt_number": 10
    },
    {
     "cell_type": "code",
     "collapsed": false,
     "input": [
      "cnts = df.groupby(['gs3', 'ra3']).id.count()\n",
      "cnts = cnts.unstack()\n",
      "cnts = pd.DataFrame(cnts, columns=['Stroke', 'Diabetes', 'Other'], index = ['Stroke', 'Diabetes', 'Other'])\n",
      "cnts"
     ],
     "language": "python",
     "metadata": {},
     "outputs": [
      {
       "html": [
        "<div style=\"max-width:1500px;overflow:auto;\">\n",
        "<table border=\"1\" class=\"dataframe\">\n",
        "  <thead>\n",
        "    <tr style=\"text-align: right;\">\n",
        "      <th></th>\n",
        "      <th>Stroke</th>\n",
        "      <th>Diabetes</th>\n",
        "      <th>Other</th>\n",
        "    </tr>\n",
        "  </thead>\n",
        "  <tbody>\n",
        "    <tr>\n",
        "      <th>Stroke</th>\n",
        "      <td>87</td>\n",
        "      <td>84</td>\n",
        "      <td>95</td>\n",
        "    </tr>\n",
        "    <tr>\n",
        "      <th>Diabetes</th>\n",
        "      <td>32</td>\n",
        "      <td>61</td>\n",
        "      <td>53</td>\n",
        "    </tr>\n",
        "    <tr>\n",
        "      <th>Other</th>\n",
        "      <td>746</td>\n",
        "      <td>780</td>\n",
        "      <td>764</td>\n",
        "    </tr>\n",
        "  </tbody>\n",
        "</table>\n",
        "</div>"
       ],
       "metadata": {},
       "output_type": "pyout",
       "prompt_number": 11,
       "text": [
        "          Stroke  Diabetes  Other\n",
        "Stroke        87        84     95\n",
        "Diabetes      32        61     53\n",
        "Other        746       780    764"
       ]
      }
     ],
     "prompt_number": 11
    },
    {
     "cell_type": "markdown",
     "metadata": {},
     "source": [
      "# Table 2\n",
      "\n",
      "Confusion matrix for Random-From-Train verbal autopsy. The confusion matrix for Random-From-Train (with a length-three cause-list for clarity). As in Table 1, the entry each cell counts the number of deaths truly due to the row cause that were predicted to be due to the column cause. This table demonstrates that while Random-From-Train is inaccurate at the individual level, at the population level, the prediction distribution can closely match the truth.\n",
      "\n"
     ]
    },
    {
     "cell_type": "code",
     "collapsed": false,
     "input": [
      "df['rft'] = np.random.choice(df.gs3, size=len(df.index))"
     ],
     "language": "python",
     "metadata": {},
     "outputs": [],
     "prompt_number": 12
    },
    {
     "cell_type": "code",
     "collapsed": false,
     "input": [
      "cnts = df.groupby(['gs3', 'rft']).id.count()\n",
      "cnts = cnts.unstack()\n",
      "cnts = pd.DataFrame(cnts, columns=['Stroke', 'Diabetes', 'Other'], index = ['Stroke', 'Diabetes', 'Other'])\n",
      "cnts"
     ],
     "language": "python",
     "metadata": {},
     "outputs": [
      {
       "html": [
        "<div style=\"max-width:1500px;overflow:auto;\">\n",
        "<table border=\"1\" class=\"dataframe\">\n",
        "  <thead>\n",
        "    <tr style=\"text-align: right;\">\n",
        "      <th></th>\n",
        "      <th>Stroke</th>\n",
        "      <th>Diabetes</th>\n",
        "      <th>Other</th>\n",
        "    </tr>\n",
        "  </thead>\n",
        "  <tbody>\n",
        "    <tr>\n",
        "      <th>Stroke</th>\n",
        "      <td>28</td>\n",
        "      <td>14</td>\n",
        "      <td>224</td>\n",
        "    </tr>\n",
        "    <tr>\n",
        "      <th>Diabetes</th>\n",
        "      <td>11</td>\n",
        "      <td>13</td>\n",
        "      <td>122</td>\n",
        "    </tr>\n",
        "    <tr>\n",
        "      <th>Other</th>\n",
        "      <td>223</td>\n",
        "      <td>106</td>\n",
        "      <td>1961</td>\n",
        "    </tr>\n",
        "  </tbody>\n",
        "</table>\n",
        "</div>"
       ],
       "metadata": {},
       "output_type": "pyout",
       "prompt_number": 13,
       "text": [
        "          Stroke  Diabetes  Other\n",
        "Stroke        28        14    224\n",
        "Diabetes      11        13    122\n",
        "Other        223       106   1961"
       ]
      }
     ],
     "prompt_number": 13
    },
    {
     "cell_type": "markdown",
     "metadata": {},
     "source": [
      "This table demonstrates that while Random-From-Train is inaccurate at the individual level, at the population level, the prediction distribution can closely match the truth."
     ]
    },
    {
     "cell_type": "code",
     "collapsed": false,
     "input": [
      "pd.DataFrame({'row sums':cnts.sum(0), 'col sums':cnts.sum(1)})"
     ],
     "language": "python",
     "metadata": {},
     "outputs": [
      {
       "html": [
        "<div style=\"max-width:1500px;overflow:auto;\">\n",
        "<table border=\"1\" class=\"dataframe\">\n",
        "  <thead>\n",
        "    <tr style=\"text-align: right;\">\n",
        "      <th></th>\n",
        "      <th>col sums</th>\n",
        "      <th>row sums</th>\n",
        "    </tr>\n",
        "  </thead>\n",
        "  <tbody>\n",
        "    <tr>\n",
        "      <th>Stroke</th>\n",
        "      <td>266</td>\n",
        "      <td>262</td>\n",
        "    </tr>\n",
        "    <tr>\n",
        "      <th>Diabetes</th>\n",
        "      <td>146</td>\n",
        "      <td>133</td>\n",
        "    </tr>\n",
        "    <tr>\n",
        "      <th>Other</th>\n",
        "      <td>2290</td>\n",
        "      <td>2307</td>\n",
        "    </tr>\n",
        "  </tbody>\n",
        "</table>\n",
        "</div>"
       ],
       "metadata": {},
       "output_type": "pyout",
       "prompt_number": 14,
       "text": [
        "          col sums  row sums\n",
        "Stroke         266       262\n",
        "Diabetes       146       133\n",
        "Other         2290      2307"
       ]
      }
     ],
     "prompt_number": 14
    },
    {
     "cell_type": "markdown",
     "metadata": {},
     "source": [
      "To do this, we performed a Monte Carlo calculation of the CSMF accuracy of Random Allocation, by simulating a dataset with known CSMF distribution, assigning \u201cpredicted\u201d causes of death uniformly at random, and measuring the CSMF accuracy of the predictions.\n",
      "\n",
      "The distribution of the simulated dataset is an important and subtle detail of this calculation. We sampled the true CSMF distribution from an uninformative Dirichlet distribution (which gives equal probability to all possible CSMF distributions).  We generated XXX replicated of the Monte Carlo simulation, and calculated the mean and standard deviation of the CSMF accuracy."
     ]
    },
    {
     "cell_type": "code",
     "collapsed": false,
     "input": [
      "def csmf_acc_for_random(J=34, r=500, n=10000, seed=12345):\n",
      "    \"\"\" Use Monte Carlo to approximate the CSMF accuracy\n",
      "    of randomly assigning deaths to causes\n",
      "\n",
      "    J : int, number of causes\n",
      "    r : int, number of replicates in Monte Carlo approx\n",
      "    n : int, size of test db\n",
      "    \"\"\"\n",
      "    # set random seed for reproducibility\n",
      "    np.random.seed(seed)\n",
      "\n",
      "    #######################################################\n",
      "    #######################################################\n",
      "    # generate n CSMFs from uninformative dirichlet prior\n",
      "\n",
      "    csmf_true = np.random.dirichlet(np.ones(J), size=r)\n",
      "\n",
      "    \n",
      "    ########################################################\n",
      "    ########################################################\n",
      "    # generate n CSMFs from random allocation of causes\n",
      "    # to n deaths drawn from this distribution\n",
      "\n",
      "    csmf_rand = np.random.multinomial(n, np.ones(J) / float(J), size=r) / float(n)\n",
      "    assert np.allclose(csmf_rand.sum(axis=1), 1)  #  rows sum to one (modulo machine precision)\n",
      "\n",
      "\n",
      "    ########################################################\n",
      "    ########################################################\n",
      "    # calculate CSMF accuracy for all replicates\n",
      "\n",
      "    csmf_acc = 1 - np.sum(np.absolute(csmf_true - csmf_rand), axis=1) \\\n",
      "                        / (2 * (1 - np.min(csmf_true, axis=1)))\n",
      "\n",
      "\n",
      "    #plt.title('Mean CSMF Accuracy = %0.2f\\nfor I=%d, n=%d, r=%d replicates' % (np.mean(csmf_acc), I, n, r))\n",
      "    #sns.distplot(csmf_acc, rug=True, rug_kws={'alpha':.25})\n",
      "    \n",
      "    return csmf_acc\n",
      "\n",
      "acc = csmf_acc_for_random(J=34)\n",
      "acc.mean(), acc.std()"
     ],
     "language": "python",
     "metadata": {},
     "outputs": [
      {
       "metadata": {},
       "output_type": "pyout",
       "prompt_number": 15,
       "text": [
        "(0.63650814200295769, 0.039592336123364276)"
       ]
      }
     ],
     "prompt_number": 15
    },
    {
     "cell_type": "markdown",
     "metadata": {},
     "source": [
      "We also used this simulation framework to perform a Monte Carlo calculation of the concordance for random allocation, which provides a cross-check for the analytical derivation of CCC derived in [ref]. We repeated the simulations for cause lists ranging from 3 to 50 causes."
     ]
    },
    {
     "cell_type": "code",
     "collapsed": false,
     "input": [
      "def concordance_for_random(J=34, r=500, n=10000, seed=12345):\n",
      "    \"\"\" Use Monte Carlo to approximate the concordance\n",
      "    of randomly assigning deaths to causes\n",
      "\n",
      "    J : int, number of causes\n",
      "    r : int, number of replicates in Monte Carlo approx\n",
      "    n : int, size of test db\n",
      "    \"\"\"\n",
      "    # set random seed for reproducibility\n",
      "    np.random.seed(seed)\n",
      "\n",
      "    #######################################################\n",
      "    #######################################################\n",
      "    # generate r replicates of n underlying causes of death\n",
      "    # (true and predicted)\n",
      "    \n",
      "    cause_true = np.floor(np.random.uniform(0, J, size=(r,n)))\n",
      "    cause_pred = np.floor(np.random.uniform(0, J, size=(r,n)))\n",
      "\n",
      "    ########################################################\n",
      "    ########################################################\n",
      "    # calculate concordance for r replicates\n",
      "    c = np.empty((J,r))\n",
      "    for j in range(J):\n",
      "        n_j = (cause_true == j).sum(axis=1)\n",
      "        n_j = np.array(n_j, dtype=float)  # ensure that we get floating point division\n",
      "        \n",
      "        c[j] = ((cause_true == j)&(cause_pred == j)).sum(axis=1) / n_j\n",
      "        \n",
      "    concordance = np.mean(c, axis=0)\n",
      "    assert concordance.shape == (r,)\n",
      "\n",
      "    return concordance\n",
      "\n",
      "c = concordance_for_random(J=3)\n",
      "c.mean(), c.std()"
     ],
     "language": "python",
     "metadata": {},
     "outputs": [
      {
       "metadata": {},
       "output_type": "pyout",
       "prompt_number": 16,
       "text": [
        "(0.33348456656282904, 0.004793418009544693)"
       ]
      }
     ],
     "prompt_number": 16
    },
    {
     "cell_type": "markdown",
     "metadata": {},
     "source": [
      "This simulation setting also provided us an opportunity to demonstrate the importance of randomly resampling the cause-fraction of the test set from an uninformative Dirichlet distribution (a technical point that perhaps has not been sufficiently appreciated since its introduction in [ref]).  To do so, we compared the CCCSMF accuracy of Random Allocation with that of Random-From-Train, where training data was either uniformly distributed among causes or distributed according same distribution as the test data."
     ]
    },
    {
     "cell_type": "code",
     "collapsed": false,
     "input": [
      "def csmf_acc_for_rft(J=34, r=500, n=10000, seed=12345, uniform_train=False):\n",
      "    \"\"\" Use Monte Carlo to approximate the CSMF accuracy\n",
      "    of randomly assigning deaths according to train set distribution\n",
      "\n",
      "    J : int, number of causes\n",
      "    r : int, number of replicates in Monte Carlo approx\n",
      "    n : int, size of test db\n",
      "    uniform_train : bool, should train set have different distribution than test set\n",
      "    \"\"\"\n",
      "    # set random seed for reproducibility\n",
      "    np.random.seed(seed)\n",
      "\n",
      "    #######################################################\n",
      "    #######################################################\n",
      "    # generate n CSMFs from uninformative dirichlet prior\n",
      "\n",
      "    csmf_true = np.random.dirichlet(np.ones(J), size=r)\n",
      "    assert np.allclose(csmf_true.sum(axis=1), 1)  # after completing, rows sum to one (modulo machine precision)\n",
      "\n",
      "    #######################################################\n",
      "    #######################################################\n",
      "    # generate train set of size n\n",
      "    \n",
      "    X_train = np.empty((r,n))\n",
      "    for i in range(r):\n",
      "        X_train[i,:] = np.random.choice(range(len(csmf_true[i])), p=csmf_true[i], size=n)\n",
      "    \n",
      "    ########################################################\n",
      "    ########################################################\n",
      "    # re-calculate csmf for train set\n",
      "    # (since it is a little different than desired)\n",
      "    csmf_true = np.empty((r,J))\n",
      "    for i in range(r):\n",
      "        for j in range(J):\n",
      "            csmf_true[i,j] = (X_train[i] == j).sum() / float(n)\n",
      "    assert np.allclose(csmf_true.sum(axis=1), 1)  #  rows sum to one (modulo machine precision)\n",
      "    \n",
      "    #######################################################\n",
      "    #######################################################\n",
      "    # resample train set to have equal class sizes,\n",
      "    # _if requested_\n",
      "    if uniform_train:\n",
      "        X_train = np.empty((r,n))\n",
      "        for i in range(r):\n",
      "            X_train[i,:] = np.random.choice(range(J), p=np.ones(J)/float(J), size=n)\n",
      "    \n",
      "    \n",
      "    \n",
      "    ########################################################\n",
      "    ########################################################\n",
      "    # generate test set using random-from-train\n",
      "    X_test = np.empty((r,n))\n",
      "    for i in range(r):\n",
      "        X_test[i] = np.random.choice(X_train[i], size=n, replace=True)\n",
      "        \n",
      "    ########################################################\n",
      "    ########################################################\n",
      "    # calculate csmf for test set\n",
      "    csmf_rft = np.empty((r,J))\n",
      "    for i in range(r):\n",
      "        for j in range(J):\n",
      "            csmf_rft[i,j] = (X_test[i] == j).sum() / float(n)\n",
      "    assert np.allclose(csmf_rft.sum(axis=1), 1)  #  rows sum to one (modulo machine precision)\n",
      "\n",
      "\n",
      "    ########################################################\n",
      "    ########################################################\n",
      "    # calculate CSMF accuracy for all replicates\n",
      "\n",
      "    csmf_acc = 1 - np.sum(np.absolute(csmf_true - csmf_rft), axis=1) \\\n",
      "                        / (2 * (1 - np.min(csmf_true, axis=1)))\n",
      "\n",
      "\n",
      "    #plt.title('Mean CSMF Accuracy = %0.2f\\nfor I=%d, n=%d, r=%d replicates' % (np.mean(csmf_acc), I, n, r))\n",
      "    #sns.distplot(csmf_acc, rug=True, rug_kws={'alpha':.25})\n",
      "    \n",
      "    return csmf_acc\n",
      "\n",
      "acc = csmf_acc_for_rft(J=34)\n",
      "print(acc.mean(), acc.std())\n",
      "\n",
      "acc = csmf_acc_for_rft(J=34, uniform_train=True)\n",
      "print(acc.mean(), acc.std())"
     ],
     "language": "python",
     "metadata": {},
     "outputs": [
      {
       "output_type": "stream",
       "stream": "stdout",
       "text": [
        "(0.9801022955774783, 0.0028779120303083984)\n",
        "(0.63496926759115124, 0.040351311224907462)"
       ]
      },
      {
       "output_type": "stream",
       "stream": "stdout",
       "text": [
        "\n"
       ]
      }
     ],
     "prompt_number": 17
    },
    {
     "cell_type": "code",
     "collapsed": false,
     "input": [
      "import sys"
     ],
     "language": "python",
     "metadata": {},
     "outputs": [],
     "prompt_number": 18
    },
    {
     "cell_type": "code",
     "collapsed": false,
     "input": [
      "%%time\n",
      "\n",
      "df = pd.DataFrame(columns=['J'])\n",
      "for J in range(3,51):\n",
      "    sys.stdout.write(str(J)+' ')\n",
      "    results_J = {'J':J}\n",
      "    \n",
      "    acc = csmf_acc_for_random(J, r=10000)\n",
      "    results_J['acc_rand'] = acc.mean()\n",
      "    results_J['acc_rand_lb'] = np.percentile(acc, 2.5)\n",
      "    results_J['acc_rand_ub'] = np.percentile(acc, 97.5)\n",
      "    \n",
      "    \n",
      "    c = concordance_for_random(J, r=500)\n",
      "    results_J['conc_rand'] = c.mean()\n",
      "    results_J['conc_rand_lb'] = np.percentile(c, 2.5)\n",
      "    results_J['conc_rand_ub'] = np.percentile(c, 97.5)\n",
      "\n",
      "    acc = csmf_acc_for_rft(J, r=500)\n",
      "    results_J['acc_rft'] = acc.mean()\n",
      "    results_J['acc_rft_lb'] = np.percentile(acc, 2.5)\n",
      "    results_J['acc_rft_ub'] = np.percentile(acc, 97.5)\n",
      "\n",
      "    acc = csmf_acc_for_rft(J, r=500, uniform_train=True)\n",
      "    results_J['acc_rft_unif'] = acc.mean()\n",
      "    results_J['acc_rft_unif_lb'] = np.percentile(acc, 2.5)\n",
      "    results_J['acc_rft_unif_ub'] = np.percentile(acc, 97.5)\n",
      "    \n",
      "    df = df.append(results_J, ignore_index=True)\n",
      "print()\n",
      "df_sim = df"
     ],
     "language": "python",
     "metadata": {},
     "outputs": [
      {
       "output_type": "stream",
       "stream": "stdout",
       "text": [
        "3 4 "
       ]
      },
      {
       "output_type": "stream",
       "stream": "stdout",
       "text": [
        "5 6 "
       ]
      },
      {
       "output_type": "stream",
       "stream": "stdout",
       "text": [
        "7 8 "
       ]
      },
      {
       "output_type": "stream",
       "stream": "stdout",
       "text": [
        "9 10 "
       ]
      },
      {
       "output_type": "stream",
       "stream": "stdout",
       "text": [
        "11 12 "
       ]
      },
      {
       "output_type": "stream",
       "stream": "stdout",
       "text": [
        "13 14 "
       ]
      },
      {
       "output_type": "stream",
       "stream": "stdout",
       "text": [
        "15 16 "
       ]
      },
      {
       "output_type": "stream",
       "stream": "stdout",
       "text": [
        "17 18 "
       ]
      },
      {
       "output_type": "stream",
       "stream": "stdout",
       "text": [
        "19 20 "
       ]
      },
      {
       "output_type": "stream",
       "stream": "stdout",
       "text": [
        "21 22 "
       ]
      },
      {
       "output_type": "stream",
       "stream": "stdout",
       "text": [
        "23 24 "
       ]
      },
      {
       "output_type": "stream",
       "stream": "stdout",
       "text": [
        "25 26 "
       ]
      },
      {
       "output_type": "stream",
       "stream": "stdout",
       "text": [
        "27 28 "
       ]
      },
      {
       "output_type": "stream",
       "stream": "stdout",
       "text": [
        "29 30 "
       ]
      },
      {
       "output_type": "stream",
       "stream": "stdout",
       "text": [
        "31 32 "
       ]
      },
      {
       "output_type": "stream",
       "stream": "stdout",
       "text": [
        "33 34 "
       ]
      },
      {
       "output_type": "stream",
       "stream": "stdout",
       "text": [
        "35 36 "
       ]
      },
      {
       "output_type": "stream",
       "stream": "stdout",
       "text": [
        "37 38 "
       ]
      },
      {
       "output_type": "stream",
       "stream": "stdout",
       "text": [
        "39 40 "
       ]
      },
      {
       "output_type": "stream",
       "stream": "stdout",
       "text": [
        "41 42 "
       ]
      },
      {
       "output_type": "stream",
       "stream": "stdout",
       "text": [
        "43 44 "
       ]
      },
      {
       "output_type": "stream",
       "stream": "stdout",
       "text": [
        "45 46 "
       ]
      },
      {
       "output_type": "stream",
       "stream": "stdout",
       "text": [
        "47 48 "
       ]
      },
      {
       "output_type": "stream",
       "stream": "stdout",
       "text": [
        "49 50 "
       ]
      },
      {
       "output_type": "stream",
       "stream": "stdout",
       "text": [
        "()\n",
        "CPU times: user 4min 19s, sys: 11 s, total: 4min 30s\n",
        "Wall time: 4min 30s\n"
       ]
      }
     ],
     "prompt_number": 19
    },
    {
     "cell_type": "code",
     "collapsed": false,
     "input": [
      "df = df_sim\n",
      "df.head()"
     ],
     "language": "python",
     "metadata": {},
     "outputs": [
      {
       "html": [
        "<div style=\"max-width:1500px;overflow:auto;\">\n",
        "<table border=\"1\" class=\"dataframe\">\n",
        "  <thead>\n",
        "    <tr style=\"text-align: right;\">\n",
        "      <th></th>\n",
        "      <th>J</th>\n",
        "      <th>acc_rand</th>\n",
        "      <th>acc_rand_lb</th>\n",
        "      <th>acc_rand_ub</th>\n",
        "      <th>acc_rft</th>\n",
        "      <th>acc_rft_lb</th>\n",
        "      <th>acc_rft_ub</th>\n",
        "      <th>acc_rft_unif</th>\n",
        "      <th>acc_rft_unif_lb</th>\n",
        "      <th>acc_rft_unif_ub</th>\n",
        "      <th>conc_rand</th>\n",
        "      <th>conc_rand_lb</th>\n",
        "      <th>conc_rand_ub</th>\n",
        "    </tr>\n",
        "  </thead>\n",
        "  <tbody>\n",
        "    <tr>\n",
        "      <th>0</th>\n",
        "      <td>3.0</td>\n",
        "      <td>0.672649</td>\n",
        "      <td>0.409661</td>\n",
        "      <td>0.906207</td>\n",
        "      <td>0.994532</td>\n",
        "      <td>0.986763</td>\n",
        "      <td>0.999225</td>\n",
        "      <td>0.676596</td>\n",
        "      <td>0.412911</td>\n",
        "      <td>0.915653</td>\n",
        "      <td>0.333485</td>\n",
        "      <td>0.324596</td>\n",
        "      <td>0.342875</td>\n",
        "    </tr>\n",
        "    <tr>\n",
        "      <th>1</th>\n",
        "      <td>4.0</td>\n",
        "      <td>0.664950</td>\n",
        "      <td>0.419911</td>\n",
        "      <td>0.870437</td>\n",
        "      <td>0.993817</td>\n",
        "      <td>0.986271</td>\n",
        "      <td>0.998765</td>\n",
        "      <td>0.670330</td>\n",
        "      <td>0.433460</td>\n",
        "      <td>0.870414</td>\n",
        "      <td>0.249967</td>\n",
        "      <td>0.241173</td>\n",
        "      <td>0.258959</td>\n",
        "    </tr>\n",
        "    <tr>\n",
        "      <th>2</th>\n",
        "      <td>5.0</td>\n",
        "      <td>0.659377</td>\n",
        "      <td>0.445512</td>\n",
        "      <td>0.845829</td>\n",
        "      <td>0.992700</td>\n",
        "      <td>0.985842</td>\n",
        "      <td>0.997518</td>\n",
        "      <td>0.666023</td>\n",
        "      <td>0.466219</td>\n",
        "      <td>0.844205</td>\n",
        "      <td>0.199946</td>\n",
        "      <td>0.192522</td>\n",
        "      <td>0.208066</td>\n",
        "    </tr>\n",
        "    <tr>\n",
        "      <th>3</th>\n",
        "      <td>6.0</td>\n",
        "      <td>0.655971</td>\n",
        "      <td>0.456732</td>\n",
        "      <td>0.827259</td>\n",
        "      <td>0.991902</td>\n",
        "      <td>0.985600</td>\n",
        "      <td>0.996989</td>\n",
        "      <td>0.659627</td>\n",
        "      <td>0.467981</td>\n",
        "      <td>0.806137</td>\n",
        "      <td>0.167013</td>\n",
        "      <td>0.160000</td>\n",
        "      <td>0.174345</td>\n",
        "    </tr>\n",
        "    <tr>\n",
        "      <th>4</th>\n",
        "      <td>7.0</td>\n",
        "      <td>0.652765</td>\n",
        "      <td>0.465657</td>\n",
        "      <td>0.815029</td>\n",
        "      <td>0.991545</td>\n",
        "      <td>0.985601</td>\n",
        "      <td>0.996526</td>\n",
        "      <td>0.659969</td>\n",
        "      <td>0.494500</td>\n",
        "      <td>0.822932</td>\n",
        "      <td>0.143023</td>\n",
        "      <td>0.136691</td>\n",
        "      <td>0.149720</td>\n",
        "    </tr>\n",
        "  </tbody>\n",
        "</table>\n",
        "</div>"
       ],
       "metadata": {},
       "output_type": "pyout",
       "prompt_number": 20,
       "text": [
        "     J  acc_rand  acc_rand_lb  acc_rand_ub   acc_rft  acc_rft_lb  acc_rft_ub  \\\n",
        "0  3.0  0.672649     0.409661     0.906207  0.994532    0.986763    0.999225   \n",
        "1  4.0  0.664950     0.419911     0.870437  0.993817    0.986271    0.998765   \n",
        "2  5.0  0.659377     0.445512     0.845829  0.992700    0.985842    0.997518   \n",
        "3  6.0  0.655971     0.456732     0.827259  0.991902    0.985600    0.996989   \n",
        "4  7.0  0.652765     0.465657     0.815029  0.991545    0.985601    0.996526   \n",
        "\n",
        "   acc_rft_unif  acc_rft_unif_lb  acc_rft_unif_ub  conc_rand  conc_rand_lb  \\\n",
        "0      0.676596         0.412911         0.915653   0.333485      0.324596   \n",
        "1      0.670330         0.433460         0.870414   0.249967      0.241173   \n",
        "2      0.666023         0.466219         0.844205   0.199946      0.192522   \n",
        "3      0.659627         0.467981         0.806137   0.167013      0.160000   \n",
        "4      0.659969         0.494500         0.822932   0.143023      0.136691   \n",
        "\n",
        "   conc_rand_ub  \n",
        "0      0.342875  \n",
        "1      0.258959  \n",
        "2      0.208066  \n",
        "3      0.174345  \n",
        "4      0.149720  "
       ]
      }
     ],
     "prompt_number": 20
    },
    {
     "cell_type": "markdown",
     "metadata": {},
     "source": [
      "# Table 3\n",
      "\n",
      "CCCSMF accuracy of Random Allocation and Random-From-Train with and without resampling the test CSMF distribution. This table demonstrates the importance of resampling the CSMF distribution in the test set; if the test and train sets have the same CSMF distribution, then simple approaches like Random-From-Train, as well as state-of-the-art approaches like King-Lu,23 can appear to have better performance than is justified, due to \u201coverfitting\u201d."
     ]
    },
    {
     "cell_type": "code",
     "collapsed": false,
     "input": [
      "df.index = df.J\n",
      "np.round(1*((df.filter(['acc_rft', 'acc_rand', 'acc_rft_unif']) - .632) / (1-.632)).loc[[5,15,25,35,50,]], 3)"
     ],
     "language": "python",
     "metadata": {},
     "outputs": [
      {
       "html": [
        "<div style=\"max-width:1500px;overflow:auto;\">\n",
        "<table border=\"1\" class=\"dataframe\">\n",
        "  <thead>\n",
        "    <tr style=\"text-align: right;\">\n",
        "      <th></th>\n",
        "      <th>acc_rft</th>\n",
        "      <th>acc_rand</th>\n",
        "      <th>acc_rft_unif</th>\n",
        "    </tr>\n",
        "    <tr>\n",
        "      <th>J</th>\n",
        "      <th></th>\n",
        "      <th></th>\n",
        "      <th></th>\n",
        "    </tr>\n",
        "  </thead>\n",
        "  <tbody>\n",
        "    <tr>\n",
        "      <th>5</th>\n",
        "      <td>0.980</td>\n",
        "      <td>0.074</td>\n",
        "      <td>0.092</td>\n",
        "    </tr>\n",
        "    <tr>\n",
        "      <th>15</th>\n",
        "      <td>0.964</td>\n",
        "      <td>0.028</td>\n",
        "      <td>0.027</td>\n",
        "    </tr>\n",
        "    <tr>\n",
        "      <th>25</th>\n",
        "      <td>0.953</td>\n",
        "      <td>0.016</td>\n",
        "      <td>0.016</td>\n",
        "    </tr>\n",
        "    <tr>\n",
        "      <th>35</th>\n",
        "      <td>0.945</td>\n",
        "      <td>0.010</td>\n",
        "      <td>0.007</td>\n",
        "    </tr>\n",
        "    <tr>\n",
        "      <th>50</th>\n",
        "      <td>0.933</td>\n",
        "      <td>0.006</td>\n",
        "      <td>-0.005</td>\n",
        "    </tr>\n",
        "  </tbody>\n",
        "</table>\n",
        "</div>"
       ],
       "metadata": {},
       "output_type": "pyout",
       "prompt_number": 21,
       "text": [
        "    acc_rft  acc_rand  acc_rft_unif\n",
        "J                                  \n",
        "5     0.980     0.074         0.092\n",
        "15    0.964     0.028         0.027\n",
        "25    0.953     0.016         0.016\n",
        "35    0.945     0.010         0.007\n",
        "50    0.933     0.006        -0.005"
       ]
      }
     ],
     "prompt_number": 21
    },
    {
     "cell_type": "markdown",
     "metadata": {},
     "source": [
      "# Figure 1\n",
      "\n",
      "Figure 1. CSMF Accuracy of random allocation as a function of CoD list length.  The mean CSMF accuracy of random allocation was calculated with 10,000 Monte Carlo replicates for cause-list length ranging from 3 to 50.  The CSMF accuracy decreases monotonically as a function of J and appears to stay above 1-1/e\u22480.632, which we selected for our chance-correction parameter."
     ]
    },
    {
     "cell_type": "code",
     "collapsed": false,
     "input": [
      "df.acc_rand.plot(color='k',marker='o')\n",
      "\n",
      "plt.ylabel('CSMF Accuracy\\nof Random Allocation', rotation=0, ha='right')\n",
      "plt.xlabel('Number of Causes ($J$)')\n",
      "\n",
      "plt.axis(xmin=0, xmax=53)\n",
      "plt.subplots_adjust(left=.3)"
     ],
     "language": "python",
     "metadata": {},
     "outputs": [
      {
       "metadata": {},
       "output_type": "display_data",
       "png": "[encoded data removed]",
       "text": [
        "<matplotlib.figure.Figure at 0x7f6e55c7f2d0>"
       ]
      }
     ],
     "prompt_number": 22
    },
    {
     "cell_type": "markdown",
     "metadata": {},
     "source": [
      "# Figure 2\n",
      "\n",
      "Figure 2. Comparison of concordance from Monte Carlo calculation and analytic calculation. The analogous chance-correction value for concordance was calculated analytically in Murray et al.13, and we confirmed its accuracy in our simulation environment.  The absolute relative difference was always less than 1%."
     ]
    },
    {
     "cell_type": "code",
     "collapsed": false,
     "input": [
      "plt.plot(1/df.J, df.conc_rand, 'ko')\n",
      "plt.ylabel('Monte Carlo Estimate\\nof Concordance\\nof Random Allocation', rotation=0, ha='right')\n",
      "plt.xlabel('Analytically Calculated Concordance\\nof Random Allocation')\n",
      "\n",
      "df.index = df.J\n",
      "for j in [3,5,10,25,50]:\n",
      "    plt.text(1/float(j), df.conc_rand[j], '   $J=%d$'%j, ha='left', va='center', fontsize=24)\n",
      "    \n",
      "plt.subplots_adjust(left=.3)"
     ],
     "language": "python",
     "metadata": {},
     "outputs": [
      {
       "metadata": {},
       "output_type": "display_data",
       "png": "[encoded data removed]",
       "text": [
        "<matplotlib.figure.Figure at 0x7f6e53349e10>"
       ]
      }
     ],
     "prompt_number": 23
    },
    {
     "cell_type": "markdown",
     "metadata": {},
     "source": [
      "# Figure 3\n",
      "\n",
      "Figure 3. Comparison of individual-level and population-level prediction quality for three commonly used methods: InterVA, Tariff, physician-certified verbal autopsy (PCVA).  Questions that rely on the deceased having health care experience (HCE) are necessary for population-level PCVA quality to surpass random guessing.  Data from Murray et al.12"
     ]
    },
    {
     "cell_type": "code",
     "collapsed": false,
     "input": [
      "df = pd.read_excel('../3-data/va_methods_comparison.xlsx')\n",
      "\n",
      "# chance-correct accuracy\n",
      "df.accuracy = (df.accuracy - 0.632) / (1 - 0.632)\n",
      "df.head()"
     ],
     "language": "python",
     "metadata": {},
     "outputs": [
      {
       "html": [
        "<div style=\"max-width:1500px;overflow:auto;\">\n",
        "<table border=\"1\" class=\"dataframe\">\n",
        "  <thead>\n",
        "    <tr style=\"text-align: right;\">\n",
        "      <th></th>\n",
        "      <th>model</th>\n",
        "      <th>module</th>\n",
        "      <th>hce</th>\n",
        "      <th>accuracy</th>\n",
        "      <th>CCC</th>\n",
        "    </tr>\n",
        "  </thead>\n",
        "  <tbody>\n",
        "    <tr>\n",
        "      <th>0</th>\n",
        "      <td>InterVA</td>\n",
        "      <td>Adult</td>\n",
        "      <td>With HCE</td>\n",
        "      <td>-0.017486</td>\n",
        "      <td>0.238500</td>\n",
        "    </tr>\n",
        "    <tr>\n",
        "      <th>1</th>\n",
        "      <td>InterVA</td>\n",
        "      <td>Adult</td>\n",
        "      <td>Without HCE</td>\n",
        "      <td>-0.054394</td>\n",
        "      <td>0.234244</td>\n",
        "    </tr>\n",
        "    <tr>\n",
        "      <th>2</th>\n",
        "      <td>KL</td>\n",
        "      <td>Adult</td>\n",
        "      <td>With HCE</td>\n",
        "      <td>0.153660</td>\n",
        "      <td>0.000000</td>\n",
        "    </tr>\n",
        "    <tr>\n",
        "      <th>3</th>\n",
        "      <td>KL</td>\n",
        "      <td>Adult</td>\n",
        "      <td>Without HCE</td>\n",
        "      <td>0.108869</td>\n",
        "      <td>0.000000</td>\n",
        "    </tr>\n",
        "    <tr>\n",
        "      <th>4</th>\n",
        "      <td>MCCD</td>\n",
        "      <td>Adult</td>\n",
        "      <td>With HCE</td>\n",
        "      <td>0.562500</td>\n",
        "      <td>0.759000</td>\n",
        "    </tr>\n",
        "  </tbody>\n",
        "</table>\n",
        "</div>"
       ],
       "metadata": {},
       "output_type": "pyout",
       "prompt_number": 24,
       "text": [
        "     model module          hce  accuracy       CCC\n",
        "0  InterVA  Adult     With HCE -0.017486  0.238500\n",
        "1  InterVA  Adult  Without HCE -0.054394  0.234244\n",
        "2       KL  Adult     With HCE  0.153660  0.000000\n",
        "3       KL  Adult  Without HCE  0.108869  0.000000\n",
        "4     MCCD  Adult     With HCE  0.562500  0.759000"
       ]
      }
     ],
     "prompt_number": 24
    },
    {
     "cell_type": "code",
     "collapsed": false,
     "input": [
      "fig, ax_list = plt.subplots(2, 3, sharex=True, sharey=True, figsize=(15,10))\n",
      "\n",
      "for i, hce in enumerate(['With HCE', 'Without HCE']):\n",
      "    for j, module in enumerate(['Neonate', 'Child', 'Adult']):\n",
      "        t = df[(df.hce==hce)&(df.module==module)&df.model.isin(['InterVA', 'PCVA', 'Tariff'])]\n",
      "        t = t.dropna(subset=['accuracy', 'CCC'])\n",
      "        ax = ax_list[i,j]\n",
      "        ax.axvline(0.64, color='grey', linestyle='--', linewidth=2)\n",
      "        ax.plot(t.accuracy, t.CCC, 'o', ms=15, color='grey', mec='k', mew=2, alpha=1)\n",
      "        \n",
      "        for k in t.index:\n",
      "            ha = 'left'\n",
      "            dx = .06\n",
      "            dy = 0\n",
      "            if t.model[k] == 'Tariff' and j==0:\n",
      "                ha = 'right'\n",
      "                dx = -.06\n",
      "            elif t.model[k] == 'InterVA':\n",
      "                dy = -.0\n",
      "            ax.text(t.accuracy[k]+dx, t.CCC[k]+dy, t.model[k], ha=ha, va='center', fontsize=18)\n",
      "        \n",
      "        if i == 0:\n",
      "            ax.set_title(module)\n",
      "    \n",
      "    ax = ax_list[i,2]\n",
      "    ax.set_ylabel(hce, labelpad=-320)\n",
      "\n",
      "ax = ax_list[0,0]\n",
      "ax.set_ylabel('Individual-Level Quality (CCC)', ha='center', position=(0,0))\n",
      "ax = ax_list[1,1]\n",
      "ax.set_xlabel('Population-Level Quality (CCCSMF Accuracy)')\n",
      "fig.subplots_adjust(wspace=0.1, hspace=0.1)\n",
      "\n",
      "ax.set_xticks([-.3, 0, .3])\n",
      "ax.set_yticks([.2, .4, .6, .8])\n",
      "ax.axis(xmin=-.4, xmax=.6, ymin=.15, ymax=.55)"
     ],
     "language": "python",
     "metadata": {},
     "outputs": [
      {
       "metadata": {},
       "output_type": "pyout",
       "prompt_number": 25,
       "text": [
        "(-0.4, 0.6, 0.15, 0.55)"
       ]
      },
      {
       "metadata": {},
       "output_type": "display_data",
       "png": "[encoded data removed]",
       "text": [
        "<matplotlib.figure.Figure at 0x7f6e52fe7a90>"
       ]
      }
     ],
     "prompt_number": 25
    }
   ],
   "metadata": {}
  }
 ]
}