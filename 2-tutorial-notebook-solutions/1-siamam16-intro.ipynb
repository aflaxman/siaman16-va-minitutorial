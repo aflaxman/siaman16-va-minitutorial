{
 "metadata": {
  "kernelspec": {
   "display_name": "Python 3",
   "language": "python",
   "name": "python3"
  },
  "language_info": {
   "codemirror_mode": {
    "name": "ipython",
    "version": 3
   },
   "file_extension": ".py",
   "mimetype": "text/x-python",
   "name": "python",
   "nbconvert_exporter": "python",
   "pygments_lexer": "ipython3",
   "version": "3.4.4"
  },
  "name": "",
  "signature": "sha256:a7697509a576ddcffae20397f8820d6310a8ad919c1462fb0c4db581507be0f3"
 },
 "nbformat": 3,
 "nbformat_minor": 0,
 "worksheets": [
  {
   "cells": [
    {
     "cell_type": "markdown",
     "metadata": {},
     "source": [
      "# Welcome to the Jupyter Notebook\n",
      "\n",
      "I might slip and call it the \"IPython Notebook\" sometimes, because it was originally just for interactive Python sessions.  But it does much more now (including R and Julia)."
     ]
    },
    {
     "cell_type": "markdown",
     "metadata": {},
     "source": [
      "# What is it?\n",
      "\n",
      "This \"notebook\" is my go-to version of the Lab Book you might have seen in bench science.  It captures a fluid mix of text (in \"markdown\" format, with decent support for $\\LaTeX$) and computation, in this case in Python."
     ]
    },
    {
     "cell_type": "code",
     "collapsed": false,
     "input": [
      "# this is a python comment\n",
      "# this cell contains python code\n",
      "\n",
      "# executing the cell yields the results of the python command\n",
      "2+2"
     ],
     "language": "python",
     "metadata": {},
     "outputs": []
    },
    {
     "cell_type": "markdown",
     "metadata": {},
     "source": [
      "# Why does it work so well for me?\n",
      "\n",
      "The Donald Knuth had a dream of \"literate programming\" which captivated me years ago, but I could never really do it until I had the notebook technology.\n",
      "\n",
      "It works really well for including plots and other graphics as well."
     ]
    },
    {
     "cell_type": "code",
     "collapsed": false,
     "input": [
      "# live code some graphics here\n",
      "\n",
      "import matplotlib.pyplot as plt\n",
      "%matplotlib inline\n",
      "plt.plot([3,1,4,1,5])"
     ],
     "language": "python",
     "metadata": {},
     "outputs": []
    },
    {
     "cell_type": "code",
     "collapsed": false,
     "input": [
      "plt.style.use(\"fivethirtyeight\")"
     ],
     "language": "python",
     "metadata": {},
     "outputs": []
    },
    {
     "cell_type": "code",
     "collapsed": false,
     "input": [
      "# your turn: plot some additional digits of pi\n",
      "import sympy"
     ],
     "language": "python",
     "metadata": {},
     "outputs": []
    },
    {
     "cell_type": "code",
     "collapsed": false,
     "input": [
      "# to digits and then plot\n",
      "pi_str = str(sympy.N(sympy.pi, n=100))\n",
      "pi_digits = [int(x) for x in pi_str if x != '.']"
     ],
     "language": "python",
     "metadata": {},
     "outputs": []
    },
    {
     "cell_type": "code",
     "collapsed": false,
     "input": [
      "plt.plot(pi_digits)"
     ],
     "language": "python",
     "metadata": {},
     "outputs": []
    },
    {
     "cell_type": "markdown",
     "metadata": {},
     "source": [
      "# We will use two \"packages\" for the hands-on portion of this tutorial\n",
      "\n",
      "* [Pandas](http://pandas.pydata.org/)\n",
      "* [Scikit-Learn](http://scikit-learn.org/)"
     ]
    },
    {
     "cell_type": "markdown",
     "metadata": {},
     "source": [
      "## Pandas\n",
      "\n",
      "This is a *pan*el *da*ta package with a cute name."
     ]
    },
    {
     "cell_type": "code",
     "collapsed": true,
     "input": [
      "# live code an example of loading the va data csv with pandas here\n",
      "import pandas as pd"
     ],
     "language": "python",
     "metadata": {},
     "outputs": []
    },
    {
     "cell_type": "code",
     "collapsed": false,
     "input": [
      "df = pd.read_csv('IHME_PHMRC_VA_DATA_ADULT_Y2013M09D11_0.csv', low_memory=False)"
     ],
     "language": "python",
     "metadata": {},
     "outputs": []
    },
    {
     "cell_type": "code",
     "collapsed": false,
     "input": [
      "# DataFrame.iloc method selects row and columns by \"integer location\"\n",
      "df.iloc[5:10, 5:10]"
     ],
     "language": "python",
     "metadata": {},
     "outputs": []
    },
    {
     "cell_type": "code",
     "collapsed": false,
     "input": [
      "# If you are new to this sort of thing, what do you think this does?\n",
      "df.iloc[5:10, :10]"
     ],
     "language": "python",
     "metadata": {},
     "outputs": []
    },
    {
     "cell_type": "code",
     "collapsed": false,
     "input": [
      "# I don't have time to show you the details now, but I find that\n",
      "# pandas DataFrames have really done things well.  For example:\n",
      "df.gs_text34"
     ],
     "language": "python",
     "metadata": {},
     "outputs": []
    },
    {
     "cell_type": "code",
     "collapsed": false,
     "input": [
      "df.gs_text34.value_counts()"
     ],
     "language": "python",
     "metadata": {},
     "outputs": []
    },
    {
     "cell_type": "markdown",
     "metadata": {},
     "source": [
      "## Scikit-Learn\n",
      "\n",
      "This is a python-based machine learning library that has a lot of great methods in a common framework."
     ]
    },
    {
     "cell_type": "code",
     "collapsed": false,
     "input": [
      "# you can guess what the next line does, \n",
      "# even if you have never used python before:\n",
      "import sklearn.neighbors"
     ],
     "language": "python",
     "metadata": {},
     "outputs": []
    },
    {
     "cell_type": "code",
     "collapsed": true,
     "input": [
      "# here is how sklearn creates a \"classifier\":\n",
      "clf = sklearn.neighbors.KNeighborsClassifier()"
     ],
     "language": "python",
     "metadata": {},
     "outputs": []
    },
    {
     "cell_type": "code",
     "collapsed": true,
     "input": [
      "# I didn't mention `numpy` before, but this is \"the fundamental\n",
      "# package for scientific computing with Python\"\n",
      "\n",
      "import numpy as np"
     ],
     "language": "python",
     "metadata": {},
     "outputs": []
    },
    {
     "cell_type": "code",
     "collapsed": false,
     "input": [
      "# sklearn gets mixed up with Pandas DataFrames and Series,\n",
      "# so you need to turn things into np.arrays:\n",
      "\n",
      "X = np.array(df.loc[:, ['va46']])\n",
      "y = np.array(df.gs_text34)"
     ],
     "language": "python",
     "metadata": {},
     "outputs": []
    },
    {
     "cell_type": "code",
     "collapsed": true,
     "input": [
      "# one nice thing about sklearn is that it has all different\n",
      "# fancy machine learning methods, but they all follow a\n",
      "# common pattern:\n",
      "\n",
      "clf.fit(X, y)"
     ],
     "language": "python",
     "metadata": {},
     "outputs": []
    },
    {
     "cell_type": "code",
     "collapsed": true,
     "input": [
      "clf.predict([[19]])"
     ],
     "language": "python",
     "metadata": {},
     "outputs": []
    },
    {
     "cell_type": "code",
     "collapsed": true,
     "input": [
      "# we will see plenty more of sklearn so I'll leave things here for now."
     ],
     "language": "python",
     "metadata": {},
     "outputs": []
    },
    {
     "cell_type": "code",
     "collapsed": true,
     "input": [],
     "language": "python",
     "metadata": {},
     "outputs": []
    },
    {
     "cell_type": "code",
     "collapsed": true,
     "input": [],
     "language": "python",
     "metadata": {},
     "outputs": []
    },
    {
     "cell_type": "code",
     "collapsed": false,
     "input": [],
     "language": "python",
     "metadata": {},
     "outputs": []
    }
   ],
   "metadata": {}
  }
 ]
}