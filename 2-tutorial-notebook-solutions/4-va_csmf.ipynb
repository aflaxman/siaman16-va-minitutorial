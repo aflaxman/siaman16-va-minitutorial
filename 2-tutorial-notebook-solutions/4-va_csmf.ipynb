{
 "metadata": {
  "kernelspec": {
   "display_name": "Python 3",
   "language": "python",
   "name": "python3"
  },
  "language_info": {
   "codemirror_mode": {
    "name": "ipython",
    "version": 3
   },
   "file_extension": ".py",
   "mimetype": "text/x-python",
   "name": "python",
   "nbconvert_exporter": "python",
   "pygments_lexer": "ipython3",
   "version": "3.4.4"
  },
  "name": "",
  "signature": "sha256:f93afd06fc78edae4dd932a5919d5163f2f23f99f6a36bd72926dc8ee98e2369"
 },
 "nbformat": 3,
 "nbformat_minor": 0,
 "worksheets": [
  {
   "cells": [
    {
     "cell_type": "markdown",
     "metadata": {},
     "source": [
      "# We won't work through this notebook\n",
      "\n",
      "We won't have time.  But I thought I'd include it, in case you want to see exactly how I implement my population-level quality metric."
     ]
    },
    {
     "cell_type": "code",
     "collapsed": false,
     "input": [
      "import numpy as np, pandas as pd"
     ],
     "language": "python",
     "metadata": {},
     "outputs": [],
     "prompt_number": 1
    },
    {
     "cell_type": "markdown",
     "metadata": {},
     "source": [
      "# Let's put the CSMF Accuracy calculation right at the top"
     ]
    },
    {
     "cell_type": "code",
     "collapsed": false,
     "input": [
      "def measure_prediction_quality(csmf_pred, y_test):\n",
      "    \"\"\"Calculate population-level prediction quality (CSMF Accuracy)\n",
      "    \n",
      "    Parameters\n",
      "    ----------\n",
      "    csmf_pred : pd.Series, predicted distribution of causes\n",
      "    y_test : array-like, labels for test dataset\n",
      "    \n",
      "    Results\n",
      "    -------\n",
      "    csmf_acc : float\n",
      "    \"\"\"\n",
      "    \n",
      "    csmf_true = pd.Series(y_test).value_counts() / float(len(y_test))\n",
      "    csmf_acc = 1 - np.sum(np.absolute(csmf_pred - csmf_true)) / (2*(1 - csmf_true.min()))\n",
      "    # cccsmf_acc = (csmf_acc - 0.632) / (1 - 0.632)\n",
      "\n",
      "    return csmf_acc"
     ],
     "language": "python",
     "metadata": {},
     "outputs": [],
     "prompt_number": 2
    },
    {
     "cell_type": "markdown",
     "metadata": {},
     "source": [
      "# How can I test this?"
     ]
    },
    {
     "cell_type": "code",
     "collapsed": false,
     "input": [
      "csmf_pred = pd.Series({'cause_1': .5, 'cause_2': .5})\n",
      "y_test = ['cause_1', 'cause_2']\n",
      "measure_prediction_quality(csmf_pred, y_test)"
     ],
     "language": "python",
     "metadata": {},
     "outputs": [
      {
       "metadata": {},
       "output_type": "pyout",
       "prompt_number": 3,
       "text": [
        "1.0"
       ]
      }
     ],
     "prompt_number": 3
    },
    {
     "cell_type": "code",
     "collapsed": false,
     "input": [
      "csmf_pred = pd.Series({'cause_1': 0., 'cause_2': 1.})\n",
      "y_test = ['cause_1']*1000 + ['cause_2']\n",
      "measure_prediction_quality(csmf_pred, y_test)"
     ],
     "language": "python",
     "metadata": {},
     "outputs": [
      {
       "metadata": {},
       "output_type": "pyout",
       "prompt_number": 4,
       "text": [
        "0.0"
       ]
      }
     ],
     "prompt_number": 4
    },
    {
     "cell_type": "markdown",
     "metadata": {},
     "source": [
      "# Things we don't have time for\n",
      "\n",
      "An approach to really do the cross-validation *out of sample*:"
     ]
    },
    {
     "cell_type": "code",
     "collapsed": false,
     "input": [
      "val = {}\n",
      "module = 'Adult'\n",
      "val[module] = pd.read_csv('../3-data/phmrc_cleaned.csv')"
     ],
     "language": "python",
     "metadata": {},
     "outputs": [],
     "prompt_number": 5
    },
    {
     "cell_type": "code",
     "collapsed": false,
     "input": [
      "def get_data(module):\n",
      "    X = np.array(val[module].filter(regex='(^s[0-9]+|age|sex)').fillna(0))\n",
      "    y = np.array(val[module].gs_text34)\n",
      "    site = np.array(val[module].site)\n",
      "    \n",
      "    return X, y, site"
     ],
     "language": "python",
     "metadata": {},
     "outputs": [],
     "prompt_number": 6
    },
    {
     "cell_type": "code",
     "collapsed": false,
     "input": [
      "X, y, site = get_data(module)\n",
      "X.shape"
     ],
     "language": "python",
     "metadata": {},
     "outputs": [
      {
       "metadata": {},
       "output_type": "pyout",
       "prompt_number": 7,
       "text": [
        "(7846, 341)"
       ]
      }
     ],
     "prompt_number": 7
    },
    {
     "cell_type": "code",
     "collapsed": false,
     "input": [
      "def my_resample(X, y, N2, csmf_new):\n",
      "    \"\"\"\"Randomly resample X and y so that resampled cause distribution follows\n",
      "    csmf_new and there are N2 samples total\n",
      "    \n",
      "    Parameters\n",
      "    ----------\n",
      "    X : array-like, feature vectors\n",
      "    y : array-like, corresponding labels\n",
      "    N2 : int, number of samples in resampled results\n",
      "    csmf_new : pd.Series, distribution of resampled data\n",
      "    \n",
      "    Results\n",
      "    -------\n",
      "    X_new : array-like, resampled feature vectors\n",
      "    y_new : array-like, corresponding resampled labels\n",
      "    \"\"\"\n",
      "    \n",
      "    N, I = X.shape\n",
      "    assert len(y) == N, 'X and y must have same length' \n",
      "\n",
      "    causes = csmf_new.index\n",
      "    J, = causes.shape  # trailing comma for sneaky numpy reasons\n",
      "    \n",
      "    # generate count of examples for each cause according to csmf_new\n",
      "    cnt_new = np.random.multinomial(N2, csmf_new)\n",
      "    \n",
      "    # replace y_new with original values\n",
      "    y_new = []\n",
      "    for cnt, cause in zip(cnt_new, causes):\n",
      "        for n_j in range(cnt):\n",
      "            y_new.append(cause)\n",
      "    y_new = np.array(y_new)\n",
      "    \n",
      "    # resample rows of X appropriately\n",
      "    X_new = np.zeros((len(y_new), I))\n",
      "    for j in causes:\n",
      "        new_rows, = np.where(y_new == j)  # trailing comma for sneaky numpy reasons\n",
      "        candidate_rows, = np.where(y == j)  # trailing comma for sneaky numpy reasons\n",
      "        \n",
      "        assert len(candidate_rows) > 0, 'must have examples of each resampled cause'\n",
      "        old_rows = np.random.choice(candidate_rows, size=len(new_rows), replace=True)\n",
      "        X_new[new_rows,] = X[old_rows,]\n",
      "    return X_new, y_new"
     ],
     "language": "python",
     "metadata": {},
     "outputs": [],
     "prompt_number": 8
    },
    {
     "cell_type": "code",
     "collapsed": false,
     "input": [
      "def random_allocation(X_train, y_train):\n",
      "    \"\"\" make predictions by random allocation\"\"\"\n",
      "    clf = sklearn.base.BaseEstimator()\n",
      "    def my_predict(X_test):\n",
      "        N = len(X_test)\n",
      "        J = float(len(np.unique(y_train)))\n",
      "    \n",
      "        y_pred = np.ones((N, J)) / J\n",
      "        csmf_pred = pd.Series(y_pred.sum(axis=0),\n",
      "                              index=np.unique(y_train)) / N\n",
      "        return csmf_pred\n",
      "    clf.my_predict = my_predict\n",
      "    return clf"
     ],
     "language": "python",
     "metadata": {},
     "outputs": [],
     "prompt_number": 9
    },
    {
     "cell_type": "code",
     "collapsed": false,
     "input": [
      "def my_key(module, clf):\n",
      "    return '{}-{}'.format(module, clf)"
     ],
     "language": "python",
     "metadata": {},
     "outputs": [],
     "prompt_number": 10
    },
    {
     "cell_type": "code",
     "collapsed": false,
     "input": [
      "import sklearn.model_selection"
     ],
     "language": "python",
     "metadata": {},
     "outputs": [],
     "prompt_number": 11
    },
    {
     "cell_type": "code",
     "collapsed": false,
     "input": [
      "results = []\n",
      "def measure_csmf_acc(my_fit_predictor, replicates=10):\n",
      "    \"\"\" my_fit_predictor : function that takes X,y returns clf object with my_predict method\n",
      "    clf.my_predict takes X_test, return csmf_pred\n",
      "    \n",
      "    Results\n",
      "    -------\n",
      "    stores calculation in results dict,\n",
      "    returns calc for adults\n",
      "    \"\"\"\n",
      "    X, y, site = get_data(module)\n",
      "    acc = []\n",
      "\n",
      "    np.random.seed(12345) # set seed for reproducibility\n",
      "    cv = sklearn.model_selection.StratifiedShuffleSplit(n_iter=replicates, test_size=0.25)\n",
      "    for train_index, test_index in cv.split(X, y):\n",
      "        # make train test split\n",
      "        X_train, X_test = X[train_index], X[test_index]\n",
      "        y_train, y_test = y[train_index], y[test_index]\n",
      "\n",
      "        # resample train set for equal class weights\n",
      "        J = len(np.unique(y))\n",
      "        csmf_flat = pd.Series(np.ones(J)/J, index=np.unique(y))\n",
      "        X_train, y_train = my_resample(X_train, y_train,  J*100, csmf_flat)\n",
      "\n",
      "        clf = my_fit_predictor(X_train, y_train)\n",
      "\n",
      "        # resample test set to have uninformative cause distribution\n",
      "        csmf_rand = pd.Series(np.random.dirichlet(np.ones(J)), index=np.unique(y))\n",
      "        X_test_resamp, y_test_resamp = my_resample(X_test, y_test, J*100, csmf_rand)\n",
      "\n",
      "        # make predictions\n",
      "        csmf_pred = clf.my_predict(X_test_resamp)\n",
      "\n",
      "        # test predictions\n",
      "        csmf_acc = measure_prediction_quality(csmf_pred, y_test_resamp)\n",
      "\n",
      "        results.append({'csmf_acc':csmf_acc, 'key':my_key(module, clf)})\n",
      "\n",
      "    df = pd.DataFrame(results)\n",
      "    g = df.groupby('key')\n",
      "    return g.csmf_acc.describe().unstack()\n",
      "\n",
      "baseline_csmf_acc = measure_csmf_acc(random_allocation)\n",
      "baseline_csmf_acc"
     ],
     "language": "python",
     "metadata": {},
     "outputs": [
      {
       "output_type": "stream",
       "stream": "stderr",
       "text": [
        "/homes/abie/anaconda/envs/testenv/lib/python2.7/site-packages/numpy/core/numeric.py:190: VisibleDeprecationWarning: using a non-integer number instead of an integer will result in an error in the future\n",
        "  a = empty(shape, dtype, order)\n"
       ]
      },
      {
       "html": [
        "<div style=\"max-width:1500px;overflow:auto;\">\n",
        "<table border=\"1\" class=\"dataframe\">\n",
        "  <thead>\n",
        "    <tr style=\"text-align: right;\">\n",
        "      <th></th>\n",
        "      <th>count</th>\n",
        "      <th>mean</th>\n",
        "      <th>std</th>\n",
        "      <th>min</th>\n",
        "      <th>25%</th>\n",
        "      <th>50%</th>\n",
        "      <th>75%</th>\n",
        "      <th>max</th>\n",
        "    </tr>\n",
        "    <tr>\n",
        "      <th>key</th>\n",
        "      <th></th>\n",
        "      <th></th>\n",
        "      <th></th>\n",
        "      <th></th>\n",
        "      <th></th>\n",
        "      <th></th>\n",
        "      <th></th>\n",
        "      <th></th>\n",
        "    </tr>\n",
        "  </thead>\n",
        "  <tbody>\n",
        "    <tr>\n",
        "      <th>Adult-BaseEstimator()</th>\n",
        "      <td>10.0</td>\n",
        "      <td>0.636413</td>\n",
        "      <td>0.050688</td>\n",
        "      <td>0.5584</td>\n",
        "      <td>0.588114</td>\n",
        "      <td>0.667647</td>\n",
        "      <td>0.673313</td>\n",
        "      <td>0.683436</td>\n",
        "    </tr>\n",
        "  </tbody>\n",
        "</table>\n",
        "</div>"
       ],
       "metadata": {},
       "output_type": "pyout",
       "prompt_number": 12,
       "text": [
        "                       count      mean       std     min       25%       50%  \\\n",
        "key                                                                            \n",
        "Adult-BaseEstimator()   10.0  0.636413  0.050688  0.5584  0.588114  0.667647   \n",
        "\n",
        "                            75%       max  \n",
        "key                                        \n",
        "Adult-BaseEstimator()  0.673313  0.683436  "
       ]
      }
     ],
     "prompt_number": 12
    },
    {
     "cell_type": "code",
     "collapsed": false,
     "input": [
      "import sklearn.naive_bayes\n",
      "\n",
      "def nb_pr_allocation(X_train, y_train):\n",
      "    clf = sklearn.naive_bayes.BernoulliNB()\n",
      "    clf.fit(X_train, y_train)\n",
      "    \n",
      "    def my_predict(X_test):\n",
      "        y_pred = clf.predict_proba(X_test)\n",
      "        csmf_pred = pd.Series(y_pred.sum(axis=0), index=clf.classes_) / float(len(y_pred))\n",
      "        return csmf_pred\n",
      "    clf.my_predict = my_predict\n",
      "    return clf\n",
      "    \n",
      "measure_csmf_acc(nb_pr_allocation)"
     ],
     "language": "python",
     "metadata": {},
     "outputs": [
      {
       "html": [
        "<div style=\"max-width:1500px;overflow:auto;\">\n",
        "<table border=\"1\" class=\"dataframe\">\n",
        "  <thead>\n",
        "    <tr style=\"text-align: right;\">\n",
        "      <th></th>\n",
        "      <th>count</th>\n",
        "      <th>mean</th>\n",
        "      <th>std</th>\n",
        "      <th>min</th>\n",
        "      <th>25%</th>\n",
        "      <th>50%</th>\n",
        "      <th>75%</th>\n",
        "      <th>max</th>\n",
        "    </tr>\n",
        "    <tr>\n",
        "      <th>key</th>\n",
        "      <th></th>\n",
        "      <th></th>\n",
        "      <th></th>\n",
        "      <th></th>\n",
        "      <th></th>\n",
        "      <th></th>\n",
        "      <th></th>\n",
        "      <th></th>\n",
        "    </tr>\n",
        "  </thead>\n",
        "  <tbody>\n",
        "    <tr>\n",
        "      <th>Adult-BaseEstimator()</th>\n",
        "      <td>10.0</td>\n",
        "      <td>0.636413</td>\n",
        "      <td>0.050688</td>\n",
        "      <td>0.558400</td>\n",
        "      <td>0.588114</td>\n",
        "      <td>0.667647</td>\n",
        "      <td>0.673313</td>\n",
        "      <td>0.683436</td>\n",
        "    </tr>\n",
        "    <tr>\n",
        "      <th>Adult-BernoulliNB(alpha=1.0, binarize=0.0, class_prior=None, fit_prior=True)</th>\n",
        "      <td>10.0</td>\n",
        "      <td>0.746384</td>\n",
        "      <td>0.031005</td>\n",
        "      <td>0.679822</td>\n",
        "      <td>0.734750</td>\n",
        "      <td>0.751153</td>\n",
        "      <td>0.765983</td>\n",
        "      <td>0.789410</td>\n",
        "    </tr>\n",
        "  </tbody>\n",
        "</table>\n",
        "</div>"
       ],
       "metadata": {},
       "output_type": "pyout",
       "prompt_number": 13,
       "text": [
        "                                                    count      mean       std  \\\n",
        "key                                                                             \n",
        "Adult-BaseEstimator()                                10.0  0.636413  0.050688   \n",
        "Adult-BernoulliNB(alpha=1.0, binarize=0.0, clas...   10.0  0.746384  0.031005   \n",
        "\n",
        "                                                         min       25%  \\\n",
        "key                                                                      \n",
        "Adult-BaseEstimator()                               0.558400  0.588114   \n",
        "Adult-BernoulliNB(alpha=1.0, binarize=0.0, clas...  0.679822  0.734750   \n",
        "\n",
        "                                                         50%       75%  \\\n",
        "key                                                                      \n",
        "Adult-BaseEstimator()                               0.667647  0.673313   \n",
        "Adult-BernoulliNB(alpha=1.0, binarize=0.0, clas...  0.751153  0.765983   \n",
        "\n",
        "                                                         max  \n",
        "key                                                           \n",
        "Adult-BaseEstimator()                               0.683436  \n",
        "Adult-BernoulliNB(alpha=1.0, binarize=0.0, clas...  0.789410  "
       ]
      }
     ],
     "prompt_number": 13
    },
    {
     "cell_type": "code",
     "collapsed": true,
     "input": [],
     "language": "python",
     "metadata": {},
     "outputs": [],
     "prompt_number": 13
    }
   ],
   "metadata": {}
  }
 ]
}