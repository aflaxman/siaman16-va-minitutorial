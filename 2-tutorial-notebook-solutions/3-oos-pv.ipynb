{
 "metadata": {
  "name": "",
  "signature": "sha256:2c440ded708ef8614ab7abeae0959a8b707467c918e95f24f0dd3e52ea76e2ce"
 },
 "nbformat": 3,
 "nbformat_minor": 0,
 "worksheets": [
  {
   "cells": [
    {
     "cell_type": "markdown",
     "metadata": {},
     "source": [
      "# Repeat setup from Notebook #2"
     ]
    },
    {
     "cell_type": "code",
     "collapsed": false,
     "input": [
      "import pandas as pd"
     ],
     "language": "python",
     "metadata": {},
     "outputs": [],
     "prompt_number": 1
    },
    {
     "cell_type": "code",
     "collapsed": false,
     "input": [
      "df = pd.read_csv('../3-data/phmrc_cleaned.csv')\n",
      "df.head()"
     ],
     "language": "python",
     "metadata": {},
     "outputs": [
      {
       "html": [
        "<div style=\"max-width:1500px;overflow:auto;\">\n",
        "<table border=\"1\" class=\"dataframe\">\n",
        "  <thead>\n",
        "    <tr style=\"text-align: right;\">\n",
        "      <th></th>\n",
        "      <th>id</th>\n",
        "      <th>site</th>\n",
        "      <th>gs_code34</th>\n",
        "      <th>gs_text34</th>\n",
        "      <th>gs_code46</th>\n",
        "      <th>gs_text46</th>\n",
        "      <th>gs_code55</th>\n",
        "      <th>gs_text55</th>\n",
        "      <th>gs_comorbid1</th>\n",
        "      <th>gs_comorbid2</th>\n",
        "      <th>...</th>\n",
        "      <th>s9999162</th>\n",
        "      <th>s9999163</th>\n",
        "      <th>s9999164</th>\n",
        "      <th>s9999165</th>\n",
        "      <th>s9999166</th>\n",
        "      <th>s9999167</th>\n",
        "      <th>s9999168</th>\n",
        "      <th>s9999169</th>\n",
        "      <th>s9999170</th>\n",
        "      <th>s9999171</th>\n",
        "    </tr>\n",
        "  </thead>\n",
        "  <tbody>\n",
        "    <tr>\n",
        "      <th>0</th>\n",
        "      <td>A-21360001</td>\n",
        "      <td>AP</td>\n",
        "      <td>I64</td>\n",
        "      <td>Stroke</td>\n",
        "      <td>I64</td>\n",
        "      <td>Stroke</td>\n",
        "      <td>I64</td>\n",
        "      <td>Stroke</td>\n",
        "      <td>NaN</td>\n",
        "      <td>NaN</td>\n",
        "      <td>...</td>\n",
        "      <td>0</td>\n",
        "      <td>0</td>\n",
        "      <td>0</td>\n",
        "      <td>0</td>\n",
        "      <td>0</td>\n",
        "      <td>0</td>\n",
        "      <td>0</td>\n",
        "      <td>0</td>\n",
        "      <td>0</td>\n",
        "      <td>0</td>\n",
        "    </tr>\n",
        "    <tr>\n",
        "      <th>1</th>\n",
        "      <td>A-21360002</td>\n",
        "      <td>AP</td>\n",
        "      <td>N17</td>\n",
        "      <td>Renal Failure</td>\n",
        "      <td>N17</td>\n",
        "      <td>Renal Failure</td>\n",
        "      <td>N17</td>\n",
        "      <td>Renal Failure</td>\n",
        "      <td>NaN</td>\n",
        "      <td>NaN</td>\n",
        "      <td>...</td>\n",
        "      <td>0</td>\n",
        "      <td>0</td>\n",
        "      <td>0</td>\n",
        "      <td>0</td>\n",
        "      <td>1</td>\n",
        "      <td>0</td>\n",
        "      <td>0</td>\n",
        "      <td>0</td>\n",
        "      <td>0</td>\n",
        "      <td>0</td>\n",
        "    </tr>\n",
        "    <tr>\n",
        "      <th>2</th>\n",
        "      <td>A-21360004</td>\n",
        "      <td>AP</td>\n",
        "      <td>I64</td>\n",
        "      <td>Stroke</td>\n",
        "      <td>I64</td>\n",
        "      <td>Stroke</td>\n",
        "      <td>I64</td>\n",
        "      <td>Stroke</td>\n",
        "      <td>NaN</td>\n",
        "      <td>NaN</td>\n",
        "      <td>...</td>\n",
        "      <td>0</td>\n",
        "      <td>0</td>\n",
        "      <td>0</td>\n",
        "      <td>0</td>\n",
        "      <td>1</td>\n",
        "      <td>0</td>\n",
        "      <td>0</td>\n",
        "      <td>0</td>\n",
        "      <td>0</td>\n",
        "      <td>0</td>\n",
        "    </tr>\n",
        "    <tr>\n",
        "      <th>3</th>\n",
        "      <td>A-21360007</td>\n",
        "      <td>AP</td>\n",
        "      <td>I64</td>\n",
        "      <td>Stroke</td>\n",
        "      <td>I64</td>\n",
        "      <td>Stroke</td>\n",
        "      <td>I64</td>\n",
        "      <td>Stroke</td>\n",
        "      <td>NaN</td>\n",
        "      <td>NaN</td>\n",
        "      <td>...</td>\n",
        "      <td>0</td>\n",
        "      <td>0</td>\n",
        "      <td>0</td>\n",
        "      <td>0</td>\n",
        "      <td>1</td>\n",
        "      <td>0</td>\n",
        "      <td>0</td>\n",
        "      <td>0</td>\n",
        "      <td>0</td>\n",
        "      <td>0</td>\n",
        "    </tr>\n",
        "    <tr>\n",
        "      <th>4</th>\n",
        "      <td>A-21360008</td>\n",
        "      <td>AP</td>\n",
        "      <td>I64</td>\n",
        "      <td>Stroke</td>\n",
        "      <td>I64</td>\n",
        "      <td>Stroke</td>\n",
        "      <td>I64</td>\n",
        "      <td>Stroke</td>\n",
        "      <td>NaN</td>\n",
        "      <td>NaN</td>\n",
        "      <td>...</td>\n",
        "      <td>0</td>\n",
        "      <td>0</td>\n",
        "      <td>0</td>\n",
        "      <td>0</td>\n",
        "      <td>0</td>\n",
        "      <td>0</td>\n",
        "      <td>0</td>\n",
        "      <td>0</td>\n",
        "      <td>0</td>\n",
        "      <td>0</td>\n",
        "    </tr>\n",
        "  </tbody>\n",
        "</table>\n",
        "<p>5 rows \u00d7 355 columns</p>\n",
        "</div>"
       ],
       "metadata": {},
       "output_type": "pyout",
       "prompt_number": 2,
       "text": [
        "           id site gs_code34      gs_text34 gs_code46      gs_text46  \\\n",
        "0  A-21360001   AP       I64         Stroke       I64         Stroke   \n",
        "1  A-21360002   AP       N17  Renal Failure       N17  Renal Failure   \n",
        "2  A-21360004   AP       I64         Stroke       I64         Stroke   \n",
        "3  A-21360007   AP       I64         Stroke       I64         Stroke   \n",
        "4  A-21360008   AP       I64         Stroke       I64         Stroke   \n",
        "\n",
        "  gs_code55      gs_text55 gs_comorbid1 gs_comorbid2    ...     s9999162  \\\n",
        "0       I64         Stroke          NaN          NaN    ...            0   \n",
        "1       N17  Renal Failure          NaN          NaN    ...            0   \n",
        "2       I64         Stroke          NaN          NaN    ...            0   \n",
        "3       I64         Stroke          NaN          NaN    ...            0   \n",
        "4       I64         Stroke          NaN          NaN    ...            0   \n",
        "\n",
        "   s9999163  s9999164  s9999165  s9999166  s9999167  s9999168  s9999169  \\\n",
        "0         0         0         0         0         0         0         0   \n",
        "1         0         0         0         1         0         0         0   \n",
        "2         0         0         0         1         0         0         0   \n",
        "3         0         0         0         1         0         0         0   \n",
        "4         0         0         0         0         0         0         0   \n",
        "\n",
        "   s9999170  s9999171  \n",
        "0         0         0  \n",
        "1         0         0  \n",
        "2         0         0  \n",
        "3         0         0  \n",
        "4         0         0  \n",
        "\n",
        "[5 rows x 355 columns]"
       ]
      }
     ],
     "prompt_number": 2
    },
    {
     "cell_type": "code",
     "collapsed": false,
     "input": [
      "import numpy as np"
     ],
     "language": "python",
     "metadata": {},
     "outputs": [],
     "prompt_number": 3
    },
    {
     "cell_type": "code",
     "collapsed": false,
     "input": [
      "X = np.array(df.filter(regex='^(s[0-9]+|age|sex)').fillna(0))\n",
      "y = np.array(df.gs_text34)"
     ],
     "language": "python",
     "metadata": {},
     "outputs": [],
     "prompt_number": 4
    },
    {
     "cell_type": "code",
     "collapsed": false,
     "input": [
      "import sklearn.naive_bayes"
     ],
     "language": "python",
     "metadata": {},
     "outputs": [],
     "prompt_number": 5
    },
    {
     "cell_type": "code",
     "collapsed": false,
     "input": [
      "clf = sklearn.naive_bayes.BernoulliNB()"
     ],
     "language": "python",
     "metadata": {},
     "outputs": [],
     "prompt_number": 6
    },
    {
     "cell_type": "markdown",
     "metadata": {},
     "source": [
      "# New, cool thing: `sklearn.model_selection`\n",
      "\n",
      "This is new to `sklearn` version 0.18 (the development version), and I think it is really nicely done."
     ]
    },
    {
     "cell_type": "code",
     "collapsed": false,
     "input": [
      "import sklearn.model_selection"
     ],
     "language": "python",
     "metadata": {},
     "outputs": [],
     "prompt_number": 7
    },
    {
     "cell_type": "code",
     "collapsed": false,
     "input": [
      "cv = sklearn.model_selection.KFold(n_folds=10, shuffle=True, random_state=123456)"
     ],
     "language": "python",
     "metadata": {},
     "outputs": [],
     "prompt_number": 8
    },
    {
     "cell_type": "code",
     "collapsed": false,
     "input": [
      "for train, test in cv.split(X, y):\n",
      "    clf.fit(X[train], y[train])\n",
      "    y_pred = clf.predict(X[test])\n",
      "    acc = np.mean(y_pred == y[test])\n",
      "    print(acc)"
     ],
     "language": "python",
     "metadata": {},
     "outputs": [
      {
       "output_type": "stream",
       "stream": "stdout",
       "text": [
        "0.47898089172\n",
        "0.449681528662"
       ]
      },
      {
       "output_type": "stream",
       "stream": "stdout",
       "text": [
        "\n",
        "0.452229299363"
       ]
      },
      {
       "output_type": "stream",
       "stream": "stdout",
       "text": [
        "\n",
        "0.468789808917"
       ]
      },
      {
       "output_type": "stream",
       "stream": "stdout",
       "text": [
        "\n",
        "0.462420382166"
       ]
      },
      {
       "output_type": "stream",
       "stream": "stdout",
       "text": [
        "\n",
        "0.449681528662"
       ]
      },
      {
       "output_type": "stream",
       "stream": "stdout",
       "text": [
        "\n",
        "0.451530612245"
       ]
      },
      {
       "output_type": "stream",
       "stream": "stdout",
       "text": [
        "\n",
        "0.448979591837"
       ]
      },
      {
       "output_type": "stream",
       "stream": "stdout",
       "text": [
        "\n",
        "0.474489795918"
       ]
      },
      {
       "output_type": "stream",
       "stream": "stdout",
       "text": [
        "\n",
        "0.488520408163"
       ]
      },
      {
       "output_type": "stream",
       "stream": "stdout",
       "text": [
        "\n"
       ]
      }
     ],
     "prompt_number": 9
    },
    {
     "cell_type": "code",
     "collapsed": false,
     "input": [
      "# refactor this into a function\n",
      "def measure_acc(rep):\n",
      "    cv = sklearn.model_selection.KFold(n_folds=10, shuffle=True, random_state=123456+rep)\n",
      "    \n",
      "    acc_list = []\n",
      "    for train, test in cv.split(X, y):\n",
      "        clf.fit(X[train], y[train])\n",
      "        y_pred = clf.predict(X[test])\n",
      "        acc = np.mean(y_pred == y[test])\n",
      "        acc_list.append(acc)\n",
      "    return acc_list\n",
      "measure_acc(rep=0)"
     ],
     "language": "python",
     "metadata": {},
     "outputs": [
      {
       "metadata": {},
       "output_type": "pyout",
       "prompt_number": 10,
       "text": [
        "[0.47898089171974523,\n",
        " 0.44968152866242039,\n",
        " 0.45222929936305734,\n",
        " 0.46878980891719746,\n",
        " 0.4624203821656051,\n",
        " 0.44968152866242039,\n",
        " 0.45153061224489793,\n",
        " 0.44897959183673469,\n",
        " 0.47448979591836737,\n",
        " 0.48852040816326531]"
       ]
      }
     ],
     "prompt_number": 10
    },
    {
     "cell_type": "code",
     "collapsed": false,
     "input": [
      "%%time\n",
      "\n",
      "# repeat it 10 times\n",
      "acc_list = []\n",
      "for rep in range(10):\n",
      "    acc_list += measure_acc(rep)"
     ],
     "language": "python",
     "metadata": {},
     "outputs": [
      {
       "output_type": "stream",
       "stream": "stdout",
       "text": [
        "CPU times: user 9min 44s, sys: 1min 12s, total: 10min 56s\n",
        "Wall time: 21 s\n"
       ]
      }
     ],
     "prompt_number": 11
    },
    {
     "cell_type": "markdown",
     "metadata": {},
     "source": [
      "# How well does it perform now?"
     ]
    },
    {
     "cell_type": "code",
     "collapsed": false,
     "input": [
      "pd.Series(acc_list).describe(percentiles=[.025, .975])"
     ],
     "language": "python",
     "metadata": {},
     "outputs": [
      {
       "metadata": {},
       "output_type": "pyout",
       "prompt_number": 12,
       "text": [
        "count    100.000000\n",
        "mean       0.461560\n",
        "std        0.015649\n",
        "min        0.420382\n",
        "2.5%       0.431115\n",
        "50%        0.461735\n",
        "97.5%      0.487293\n",
        "max        0.492347\n",
        "dtype: float64"
       ]
      }
     ],
     "prompt_number": 12
    },
    {
     "cell_type": "markdown",
     "metadata": {},
     "source": [
      "# Not quite right half the time anymore"
     ]
    }
   ],
   "metadata": {}
  }
 ]
}