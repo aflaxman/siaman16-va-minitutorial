{
 "metadata": {
  "name": "",
  "signature": "sha256:fada45b7263420a9e2caa428d72d90bf9a7df07ad461be46ba66a039c89a4980"
 },
 "nbformat": 3,
 "nbformat_minor": 0,
 "worksheets": [
  {
   "cells": [
    {
     "cell_type": "markdown",
     "metadata": {},
     "source": [
      "# Repeat setup from Notebook #2"
     ]
    },
    {
     "cell_type": "code",
     "collapsed": false,
     "input": [
      "import pandas as pd"
     ],
     "language": "python",
     "metadata": {},
     "outputs": []
    },
    {
     "cell_type": "code",
     "collapsed": false,
     "input": [
      "df = pd.read_csv('phmrc_cleaned.csv')\n",
      "df.head()"
     ],
     "language": "python",
     "metadata": {},
     "outputs": []
    },
    {
     "cell_type": "code",
     "collapsed": false,
     "input": [
      "import numpy as np"
     ],
     "language": "python",
     "metadata": {},
     "outputs": []
    },
    {
     "cell_type": "code",
     "collapsed": false,
     "input": [
      "#X = np.array(df.filter(like='s1'))\n",
      "X = np.array(df.filter(regex='^(s[0-9]+|age|sex)').fillna(0))\n",
      "y = np.array(df.gs_text34)"
     ],
     "language": "python",
     "metadata": {},
     "outputs": []
    },
    {
     "cell_type": "code",
     "collapsed": false,
     "input": [
      "import sklearn.naive_bayes"
     ],
     "language": "python",
     "metadata": {},
     "outputs": []
    },
    {
     "cell_type": "code",
     "collapsed": false,
     "input": [
      "clf = sklearn.naive_bayes.BernoulliNB()"
     ],
     "language": "python",
     "metadata": {},
     "outputs": []
    },
    {
     "cell_type": "code",
     "collapsed": false,
     "input": [
      "import sklearn.model_selection"
     ],
     "language": "python",
     "metadata": {},
     "outputs": []
    },
    {
     "cell_type": "code",
     "collapsed": false,
     "input": [
      "cv = sklearn.model_selection.KFold(n_folds=10, shuffle=True, random_state=123456)"
     ],
     "language": "python",
     "metadata": {},
     "outputs": []
    },
    {
     "cell_type": "code",
     "collapsed": false,
     "input": [
      "for train, test in cv.split(X, y):\n",
      "    clf.fit(X[train], y[train])\n",
      "    y_pred = clf.predict(X[test])\n",
      "    acc = np.mean(y_pred == y[test])\n",
      "    print(acc)"
     ],
     "language": "python",
     "metadata": {},
     "outputs": []
    },
    {
     "cell_type": "code",
     "collapsed": false,
     "input": [
      "# refactor this into a function\n",
      "def measure_acc(rep):\n",
      "    cv = sklearn.model_selection.KFold(n_folds=10, shuffle=True, random_state=123456+rep)\n",
      "    \n",
      "    acc_list = []\n",
      "    for train, test in cv.split(X, y):\n",
      "        clf.fit(X[train], y[train])\n",
      "        y_pred = clf.predict(X[test])\n",
      "        acc = np.mean(y_pred == y[test])\n",
      "        acc_list.append(acc)\n",
      "    return acc_list\n",
      "measure_acc(rep=0)"
     ],
     "language": "python",
     "metadata": {},
     "outputs": []
    },
    {
     "cell_type": "code",
     "collapsed": false,
     "input": [
      "# repeat it 10 times\n",
      "acc_list = []\n",
      "for rep in range(10):\n",
      "    acc_list += measure_acc(rep)"
     ],
     "language": "python",
     "metadata": {},
     "outputs": []
    },
    {
     "cell_type": "markdown",
     "metadata": {},
     "source": [
      "# How well does it perform now?"
     ]
    },
    {
     "cell_type": "code",
     "collapsed": false,
     "input": [
      "pd.Series(acc_list).describe(percentiles=[.025, .975])"
     ],
     "language": "python",
     "metadata": {},
     "outputs": []
    },
    {
     "cell_type": "code",
     "collapsed": false,
     "input": [
      "import matplotlib.pyplot as plt\n",
      "%matplotlib inline"
     ],
     "language": "python",
     "metadata": {},
     "outputs": []
    },
    {
     "cell_type": "code",
     "collapsed": false,
     "input": [
      "plt.style.use(\"fivethirtyeight\")"
     ],
     "language": "python",
     "metadata": {},
     "outputs": []
    },
    {
     "cell_type": "code",
     "collapsed": false,
     "input": [
      "plt.boxplot(acc_list)\n",
      "plt.axis(ymin=0, ymax=.6)"
     ],
     "language": "python",
     "metadata": {},
     "outputs": []
    },
    {
     "cell_type": "code",
     "collapsed": false,
     "input": [],
     "language": "python",
     "metadata": {},
     "outputs": []
    }
   ],
   "metadata": {}
  }
 ]
}